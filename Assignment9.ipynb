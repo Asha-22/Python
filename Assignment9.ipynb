{
 "cells": [
  {
   "cell_type": "code",
   "execution_count": null,
   "id": "4a814d46",
   "metadata": {},
   "outputs": [],
   "source": [
    "# To what does a relative path refer?\n",
    "\n",
    "# Paths with respect to current working directory \n",
    "\n",
    "# Example: \\Python\\Assignment"
   ]
  },
  {
   "cell_type": "code",
   "execution_count": null,
   "id": "cc05cc22",
   "metadata": {},
   "outputs": [],
   "source": [
    "# What does an absolute path start with your operating system?\n",
    "\n",
    "# Absolute path always starts from the root \n",
    "\n",
    "# Example: C:\\UserName\\ineuron\\Python\\Assignment"
   ]
  },
  {
   "cell_type": "code",
   "execution_count": null,
   "id": "54b301bd",
   "metadata": {},
   "outputs": [],
   "source": [
    "# What do the functions os.getcwd() and os.chdir() do?\n",
    "\n",
    "\n",
    "import os\n",
    "os.getcwd() # returns present working directory\n",
    "os.chdir() # changes the path to new specified path"
   ]
  },
  {
   "cell_type": "code",
   "execution_count": null,
   "id": "b7bca2b6",
   "metadata": {},
   "outputs": [],
   "source": [
    "# What are the . and .. folders?\n",
    "\n",
    "# . represents current directory/folder\n",
    "# .. represents parent directory/folder"
   ]
  },
  {
   "cell_type": "code",
   "execution_count": null,
   "id": "7888a6d3",
   "metadata": {},
   "outputs": [],
   "source": [
    "# In C:\\bacon\\eggs\\spam.txt, which part is the dir name, and which part is the base name?\n",
    "\n",
    "# C:\\bacon\\eggs is the dir name\n",
    "# spam.txt is the base name "
   ]
  },
  {
   "cell_type": "code",
   "execution_count": null,
   "id": "702688dd",
   "metadata": {},
   "outputs": [],
   "source": [
    "# What are the three “mode” arguments that can be passed to the open() function?\n",
    "\n",
    "# open() function can have three arguments\n",
    "# r for read mode\n",
    "# w for write mode\n",
    "# a for append mode"
   ]
  },
  {
   "cell_type": "code",
   "execution_count": null,
   "id": "695460df",
   "metadata": {},
   "outputs": [],
   "source": [
    "# What happens if an existing file is opened in write mode?\n",
    "\n",
    "# When a file is opened in write mode it allows for editing i.e one can write into the contents of existing file(addition/deletion) "
   ]
  },
  {
   "cell_type": "code",
   "execution_count": null,
   "id": "78a3ebd7",
   "metadata": {},
   "outputs": [],
   "source": [
    "# How do you tell the difference between read() and readlines()?\n",
    "\n",
    "# read() file's entire content is read at once\n",
    "# readlines() file's content is read line by line\n",
    "\n",
    "#i.e read() returns file's entire contents as single string value; readlines() returns a list of strings for each line in the file"
   ]
  },
  {
   "cell_type": "code",
   "execution_count": null,
   "id": "1804514a",
   "metadata": {},
   "outputs": [],
   "source": [
    "# What data structure does a shelf value resemble?\n",
    "# It resembles a directory value "
   ]
  }
 ],
 "metadata": {
  "kernelspec": {
   "display_name": "Python 3 (ipykernel)",
   "language": "python",
   "name": "python3"
  },
  "language_info": {
   "codemirror_mode": {
    "name": "ipython",
    "version": 3
   },
   "file_extension": ".py",
   "mimetype": "text/x-python",
   "name": "python",
   "nbconvert_exporter": "python",
   "pygments_lexer": "ipython3",
   "version": "3.9.12"
  }
 },
 "nbformat": 4,
 "nbformat_minor": 5
}

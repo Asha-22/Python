{
 "cells": [
  {
   "cell_type": "markdown",
   "id": "6ca2f95a",
   "metadata": {},
   "source": [
    "#Why are functions advantageous to have in your programs?\n",
    "\n",
    "Function helps in increasing the readability of the program, reusability of the program by allowing reusing the code. Also, makes debugging easier. \n"
   ]
  },
  {
   "cell_type": "markdown",
   "id": "04a8b0c9",
   "metadata": {},
   "source": [
    "#When does the code in a function run: when it's specified or when it's called?\n",
    "    \n",
    "A function will execute when it is called \n",
    "\n"
   ]
  },
  {
   "cell_type": "code",
   "execution_count": 3,
   "id": "f540cf05",
   "metadata": {},
   "outputs": [
    {
     "data": {
      "text/plain": [
       "5"
      ]
     },
     "execution_count": 3,
     "metadata": {},
     "output_type": "execute_result"
    }
   ],
   "source": [
    "def add(a,b):\n",
    "    return a+b\n",
    "\n",
    "add(2,3)"
   ]
  },
  {
   "cell_type": "markdown",
   "id": "cb955c00",
   "metadata": {},
   "source": [
    "#What statement creates a function?\n",
    "\n",
    "In Python a function is defined with the help of the keyword def. \n",
    "def id followed by the name of the function , parameters passed if any in round braces, ending with a colon. \n",
    "Statements of the function should be indented correctly. It not it will raise an error "
   ]
  },
  {
   "cell_type": "code",
   "execution_count": 4,
   "id": "90d25167",
   "metadata": {},
   "outputs": [],
   "source": [
    "def add():\n",
    "    print(\"Example of function defination without passing parameter\")\n",
    "    \n",
    "def add(a,b):\n",
    "    print(\"Example of function defination with parameter\")\n"
   ]
  },
  {
   "cell_type": "code",
   "execution_count": null,
   "id": "1889c404",
   "metadata": {},
   "outputs": [],
   "source": [
    "# what is the difference between a function and a function call?\n",
    "\n",
    "# A function is a block of code for a particular task. \n",
    "\n",
    "# Function call, is the way of invoking the function to execute the defined task \n",
    "\n",
    "def add(a,b):\n",
    "    print(\"Function/Function Defination\")\n",
    "    \n",
    "add(2,3)          # Calling the function with values 2 and 3 to perform the task defined inside the function add"
   ]
  },
  {
   "cell_type": "code",
   "execution_count": null,
   "id": "ab384b86",
   "metadata": {},
   "outputs": [],
   "source": [
    "#How many global scopes are there in a Python program? How many local scopes?\n",
    "\n",
    "There will one global scope and multiple local scopes in a python program \n"
   ]
  },
  {
   "cell_type": "code",
   "execution_count": null,
   "id": "698d8a82",
   "metadata": {},
   "outputs": [],
   "source": [
    "#What happens to variables in a local scope when the function call returns?\n",
    "\n",
    "When the function call returns, he variables in a local scope get detroyed or popped out. "
   ]
  },
  {
   "cell_type": "code",
   "execution_count": null,
   "id": "18ce782d",
   "metadata": {},
   "outputs": [],
   "source": [
    "#What is the concept of a return value? Is it possible to have a return value in an expression?\n",
    "\n",
    "The value returned by a function after executing its statements or at the end of the execution is called the return value.  \n",
    "Yes it is possible to have a return value in an expression."
   ]
  },
  {
   "cell_type": "markdown",
   "id": "ae06e7df",
   "metadata": {},
   "source": [
    "#If a function does not have a return statement, what is the return value of a call to that function?\n",
    "\n",
    "If a function does not have a return statement, it returns none. "
   ]
  },
  {
   "cell_type": "code",
   "execution_count": 16,
   "id": "6e7214e6",
   "metadata": {},
   "outputs": [
    {
     "name": "stdout",
     "output_type": "stream",
     "text": [
      "15\n"
     ]
    }
   ],
   "source": [
    "#How do you make a function variable refer to the global variable?\n",
    "\n",
    "x=10\n",
    "\n",
    "def test():\n",
    "    a=5\n",
    "    global x\n",
    "    b= x +a\n",
    "    print(b)\n",
    "    \n",
    "test()"
   ]
  },
  {
   "cell_type": "markdown",
   "id": "47c04c16",
   "metadata": {},
   "source": [
    "#What is the data type of None?\n",
    "\n",
    "None is a data type of class None. It returns no value or it defines null value .  "
   ]
  },
  {
   "cell_type": "markdown",
   "id": "0c08ea3d",
   "metadata": {},
   "source": [
    "#What does the sentence import areallyourpetsnamederic do?\n",
    "\n",
    "It imports the file by name areallyourpetsnamederic in the defined destination.  "
   ]
  },
  {
   "cell_type": "markdown",
   "id": "73fba65d",
   "metadata": {},
   "source": [
    "#If you had a bacon() feature in a spam module, what would you call it after importing spam?\n",
    "\n",
    "spam.bacon()"
   ]
  },
  {
   "cell_type": "markdown",
   "id": "f5af64df",
   "metadata": {},
   "source": [
    "#What can you do to save a programme from crashing if it encounters an error?\n",
    "\n",
    "Use try and except conditions"
   ]
  },
  {
   "cell_type": "markdown",
   "id": "5cc7ba1b",
   "metadata": {},
   "source": [
    "#What is the purpose of the try clause? What is the purpose of the except clause?\n",
    "\n",
    "try: used when there is doubt of error occurance in the block of code; checking for errors.\n",
    "except: used to handle the errors occured if any in the try block of the code to continue program execution till the end.     \n"
   ]
  }
 ],
 "metadata": {
  "kernelspec": {
   "display_name": "Python 3 (ipykernel)",
   "language": "python",
   "name": "python3"
  },
  "language_info": {
   "codemirror_mode": {
    "name": "ipython",
    "version": 3
   },
   "file_extension": ".py",
   "mimetype": "text/x-python",
   "name": "python",
   "nbconvert_exporter": "python",
   "pygments_lexer": "ipython3",
   "version": "3.9.12"
  }
 },
 "nbformat": 4,
 "nbformat_minor": 5
}

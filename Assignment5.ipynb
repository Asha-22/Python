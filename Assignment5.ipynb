{
 "cells": [
  {
   "cell_type": "code",
   "execution_count": 4,
   "id": "43fa7d72",
   "metadata": {},
   "outputs": [
    {
     "data": {
      "text/plain": [
       "dict"
      ]
     },
     "execution_count": 4,
     "metadata": {},
     "output_type": "execute_result"
    }
   ],
   "source": [
    "# What does an empty dictionary's code look like?\n",
    "\n",
    "d={}\n",
    "type(d)\n"
   ]
  },
  {
   "cell_type": "code",
   "execution_count": 5,
   "id": "627c6030",
   "metadata": {},
   "outputs": [
    {
     "name": "stdout",
     "output_type": "stream",
     "text": [
      "{}\n"
     ]
    }
   ],
   "source": [
    "print(d)"
   ]
  },
  {
   "cell_type": "code",
   "execution_count": 9,
   "id": "1a5acaec",
   "metadata": {},
   "outputs": [
    {
     "name": "stdout",
     "output_type": "stream",
     "text": [
      "{'foo': 42}\n"
     ]
    }
   ],
   "source": [
    "# What is the value of a dictionary value with the key 'foo' and the value 42?\n",
    "\n",
    "d={'foo':42}\n",
    "print(d)"
   ]
  },
  {
   "cell_type": "code",
   "execution_count": null,
   "id": "4d078cd9",
   "metadata": {},
   "outputs": [],
   "source": [
    "# What is the most significant distinction between a dictionary and a list?\n",
    "\n",
    "\"\"\"\n",
    "Lists are oredered sequence.\n",
    "Lists are accessed with respect to their position/index\n",
    "\n",
    "Dictionary is unordered sequence\n",
    "Dictionary is accessed using their key values \n",
    "\"\"\""
   ]
  },
  {
   "cell_type": "code",
   "execution_count": 1,
   "id": "57573033",
   "metadata": {},
   "outputs": [
    {
     "name": "stdout",
     "output_type": "stream",
     "text": [
      "{'bar': 100}\n"
     ]
    },
    {
     "ename": "KeyError",
     "evalue": "'foo'",
     "output_type": "error",
     "traceback": [
      "\u001b[1;31m---------------------------------------------------------------------------\u001b[0m",
      "\u001b[1;31mKeyError\u001b[0m                                  Traceback (most recent call last)",
      "Input \u001b[1;32mIn [1]\u001b[0m, in \u001b[0;36m<cell line: 5>\u001b[1;34m()\u001b[0m\n\u001b[0;32m      3\u001b[0m spam \u001b[38;5;241m=\u001b[39m {\u001b[38;5;124m'\u001b[39m\u001b[38;5;124mbar\u001b[39m\u001b[38;5;124m'\u001b[39m:\u001b[38;5;241m100\u001b[39m}\n\u001b[0;32m      4\u001b[0m \u001b[38;5;28mprint\u001b[39m(spam)\n\u001b[1;32m----> 5\u001b[0m \u001b[43mspam\u001b[49m\u001b[43m[\u001b[49m\u001b[38;5;124;43m'\u001b[39;49m\u001b[38;5;124;43mfoo\u001b[39;49m\u001b[38;5;124;43m'\u001b[39;49m\u001b[43m]\u001b[49m\n",
      "\u001b[1;31mKeyError\u001b[0m: 'foo'"
     ]
    }
   ],
   "source": [
    "# What happens if you try to access spam['foo'] if spam is {'bar': 100}?\n",
    "\n",
    "spam = {'bar':100}\n",
    "print(spam)\n",
    "spam['foo']    # it can't be traced as foo does not exists in the dictionary "
   ]
  },
  {
   "cell_type": "code",
   "execution_count": 14,
   "id": "e874c0dc",
   "metadata": {},
   "outputs": [
    {
     "data": {
      "text/plain": [
       "True"
      ]
     },
     "execution_count": 14,
     "metadata": {},
     "output_type": "execute_result"
    }
   ],
   "source": [
    "# If a dictionary is stored in spam, what is the difference between the expressions 'cat' in spam and 'cat' in spam.keys()?\n",
    "\n",
    "\n",
    "spam = {'cat':1}\n",
    "'cat' in spam \n",
    "\n",
    "# Both will search for the key 'cat' in dictionary usig the in operator . If exists it returns true , false other wise "
   ]
  },
  {
   "cell_type": "code",
   "execution_count": 15,
   "id": "8d584f62",
   "metadata": {
    "scrolled": true
   },
   "outputs": [
    {
     "data": {
      "text/plain": [
       "True"
      ]
     },
     "execution_count": 15,
     "metadata": {},
     "output_type": "execute_result"
    }
   ],
   "source": [
    "'cat' in spam.keys()"
   ]
  },
  {
   "cell_type": "code",
   "execution_count": 16,
   "id": "bc2ea000",
   "metadata": {},
   "outputs": [
    {
     "data": {
      "text/plain": [
       "True"
      ]
     },
     "execution_count": 16,
     "metadata": {},
     "output_type": "execute_result"
    }
   ],
   "source": [
    "# If a dictionary is stored in spam, what is the difference between the expressions 'cat' in spam and 'cat' in spam.values()?\n",
    "\n",
    "spam = {'cat':1}\n",
    "'cat' in spam \n",
    "\n",
    "# checks for 'cat' in keys in spam "
   ]
  },
  {
   "cell_type": "code",
   "execution_count": 17,
   "id": "d0ea7be8",
   "metadata": {},
   "outputs": [
    {
     "data": {
      "text/plain": [
       "True"
      ]
     },
     "execution_count": 17,
     "metadata": {},
     "output_type": "execute_result"
    }
   ],
   "source": [
    "'cat' in spam.values()\n",
    "\n",
    "# checks for 'cat' value for any of the of the keys in spam "
   ]
  },
  {
   "cell_type": "code",
   "execution_count": 24,
   "id": "bc1a58a5",
   "metadata": {},
   "outputs": [
    {
     "name": "stdout",
     "output_type": "stream",
     "text": [
      "black\n"
     ]
    },
    {
     "data": {
      "text/plain": [
       "'black'"
      ]
     },
     "execution_count": 24,
     "metadata": {},
     "output_type": "execute_result"
    }
   ],
   "source": [
    "\"\"\"\n",
    "What is a shortcut for the following code?\n",
    "if 'color' not in spam:\n",
    "spam['color'] = 'black'\n",
    "\"\"\"\n",
    "\n",
    "if 'color' not in spam:\n",
    "    spam['color'] = 'black'\n",
    "    \n",
    "print(spam['color'])\n",
    "\n",
    "# Shortcut \n",
    "\n",
    "spam.setdefault('color','black')\n"
   ]
  },
  {
   "cell_type": "code",
   "execution_count": 36,
   "id": "7263f1fa",
   "metadata": {},
   "outputs": [
    {
     "name": "stdout",
     "output_type": "stream",
     "text": [
      "{1: ['ML', 'PY', 'CV'], 2: ['ML', 'PY', 'CV'], 3: ['ML', 'PY', 'CV'], 4: ['ML', 'PY', 'CV'], 5: ['ML', 'PY', 'CV'], 6: ['ML', 'PY', 'CV']}\n",
      "{1: ['ML', 'PY', 'CV'],\n",
      " 2: ['ML', 'PY', 'CV'],\n",
      " 3: ['ML', 'PY', 'CV'],\n",
      " 4: ['ML', 'PY', 'CV'],\n",
      " 5: ['ML', 'PY', 'CV'],\n",
      " 6: ['ML', 'PY', 'CV']}\n",
      "______________________\n",
      "{1: ['ML', 'PY', 'CV'],\n",
      " 2: ['ML', 'PY', 'CV'],\n",
      " 3: ['ML', 'PY', 'CV'],\n",
      " 4: ['ML', 'PY', 'CV'],\n",
      " 5: ['ML', 'PY', 'CV'],\n",
      " 6: ['ML', 'PY', 'CV']}\n"
     ]
    }
   ],
   "source": [
    "# How do you \"pretty print\" dictionary values using which module and function?\n",
    "\n",
    "\n",
    "import pprint\n",
    "d={1:['ML', 'PY', 'CV'], 2: ['ML', 'PY', 'CV'], 3:['ML', 'PY', 'CV'],4:['ML', 'PY', 'CV'], 5:['ML', 'PY', 'CV'],6:['ML', 'PY', 'CV']}\n",
    "\n",
    "print(d)\n",
    "\n",
    "pp=pprint.PrettyPrinter()\n",
    "\n",
    "pp.pprint(d)\n",
    "\n",
    "print(\"______________________\")\n",
    "\n",
    "s = pp.pformat(d)\n",
    "\n",
    "print(s)\n",
    "\n",
    "\n",
    "# pprint() − used for pinting formatted representation of PrettyPrinter object\n",
    "\n",
    "# pformat() − It returns the formatted representation of object, according to the parameters to the constructor.\n"
   ]
  }
 ],
 "metadata": {
  "kernelspec": {
   "display_name": "Python 3 (ipykernel)",
   "language": "python",
   "name": "python3"
  },
  "language_info": {
   "codemirror_mode": {
    "name": "ipython",
    "version": 3
   },
   "file_extension": ".py",
   "mimetype": "text/x-python",
   "name": "python",
   "nbconvert_exporter": "python",
   "pygments_lexer": "ipython3",
   "version": "3.9.12"
  }
 },
 "nbformat": 4,
 "nbformat_minor": 5
}

{
 "cells": [
  {
   "cell_type": "code",
   "execution_count": 1,
   "id": "9a79a48c",
   "metadata": {},
   "outputs": [
    {
     "ename": "SyntaxError",
     "evalue": "invalid syntax (763824622.py, line 5)",
     "output_type": "error",
     "traceback": [
      "\u001b[1;36m  Input \u001b[1;32mIn [1]\u001b[1;36m\u001b[0m\n\u001b[1;33m    s= \"This is an \"Example\" for escape characters\"\u001b[0m\n\u001b[1;37m                    ^\u001b[0m\n\u001b[1;31mSyntaxError\u001b[0m\u001b[1;31m:\u001b[0m invalid syntax\n"
     ]
    }
   ],
   "source": [
    "# What are escape characters, and how do you use them?\n",
    "\n",
    "# Escape characters are used to overwrite the meaning of special symbols and to consider the same as normal character while insertion. \n",
    "\n",
    "s= \"This is an \"Example\" for escape characters\""
   ]
  },
  {
   "cell_type": "code",
   "execution_count": 3,
   "id": "eff9b450",
   "metadata": {},
   "outputs": [
    {
     "name": "stdout",
     "output_type": "stream",
     "text": [
      "This is an \"Example\" for escape characters\n"
     ]
    }
   ],
   "source": [
    "s= \"This is an \\\"Example\\\" for escape characters\"\n",
    "\n",
    "print(s)"
   ]
  },
  {
   "cell_type": "code",
   "execution_count": null,
   "id": "6f48925c",
   "metadata": {},
   "outputs": [],
   "source": [
    "# What do the escape characters n and t stand for?\n",
    "\n",
    "\\n ->  new line\n",
    "\n",
    "\\t -> tab "
   ]
  },
  {
   "cell_type": "code",
   "execution_count": 4,
   "id": "c6860ce4",
   "metadata": {},
   "outputs": [
    {
     "name": "stdout",
     "output_type": "stream",
     "text": [
      " I am familiar with ML\\ CV \\ PY language \n"
     ]
    }
   ],
   "source": [
    "# What is the way to include backslash characters in a string?\n",
    "\n",
    "s = \" I am familiar with ML\\\\ CV \\\\ PY language \"\n",
    "\n",
    "print(s)\n",
    "\n",
    "# Use the escape character (\\)"
   ]
  },
  {
   "cell_type": "code",
   "execution_count": 7,
   "id": "d6abb01d",
   "metadata": {},
   "outputs": [
    {
     "name": "stdout",
     "output_type": "stream",
     "text": [
      "Howl's Moving Castle\n"
     ]
    }
   ],
   "source": [
    "# The string \"Howl's Moving Castle\" is a correct value. \n",
    "# Why isn't the single quote character in the word Howl's not escaped a problem?\n",
    "\n",
    "s= \"Howl's Moving Castle\"\n",
    "print(s)\n",
    "\n",
    "# Because the string is enclosed within the double quotes"
   ]
  },
  {
   "cell_type": "code",
   "execution_count": 14,
   "id": "cb87c17e",
   "metadata": {},
   "outputs": [
    {
     "name": "stdout",
     "output_type": "stream",
     "text": [
      "New link checker\n",
      "checking\n"
     ]
    }
   ],
   "source": [
    "# How do you write a string of newlines if you don't want to use the n character?\n",
    "\n",
    "# use end =\"\\n\"\n",
    "\n",
    "\n",
    "print(\"New link checker\", end =\"\\n\")\n",
    "print(\"checking\")"
   ]
  },
  {
   "cell_type": "code",
   "execution_count": 25,
   "id": "a011de81",
   "metadata": {},
   "outputs": [
    {
     "data": {
      "text/plain": [
       "'e'"
      ]
     },
     "execution_count": 25,
     "metadata": {},
     "output_type": "execute_result"
    }
   ],
   "source": [
    "\"\"\"\n",
    "What are the values of the given expressions?\n",
    "'Hello, world!'[1]\n",
    "'Hello, world!'[0:5]\n",
    "'Hello, world!'[:5]\n",
    "'Hello, world!'[3:]\n",
    "\"\"\"\n",
    "\n",
    "'Hello, world!'[1]\n"
   ]
  },
  {
   "cell_type": "code",
   "execution_count": 21,
   "id": "a54b4094",
   "metadata": {},
   "outputs": [
    {
     "data": {
      "text/plain": [
       "'Hello'"
      ]
     },
     "execution_count": 21,
     "metadata": {},
     "output_type": "execute_result"
    }
   ],
   "source": [
    "'Hello, world!'[0:5]"
   ]
  },
  {
   "cell_type": "code",
   "execution_count": 22,
   "id": "17193496",
   "metadata": {},
   "outputs": [
    {
     "data": {
      "text/plain": [
       "'Hello'"
      ]
     },
     "execution_count": 22,
     "metadata": {},
     "output_type": "execute_result"
    }
   ],
   "source": [
    "'Hello, world!'[:5]"
   ]
  },
  {
   "cell_type": "code",
   "execution_count": 23,
   "id": "0b1a714f",
   "metadata": {},
   "outputs": [
    {
     "data": {
      "text/plain": [
       "'lo, world!'"
      ]
     },
     "execution_count": 23,
     "metadata": {},
     "output_type": "execute_result"
    }
   ],
   "source": [
    "'Hello, world!'[3:]"
   ]
  },
  {
   "cell_type": "code",
   "execution_count": 26,
   "id": "302cdce6",
   "metadata": {},
   "outputs": [
    {
     "data": {
      "text/plain": [
       "'HELLO'"
      ]
     },
     "execution_count": 26,
     "metadata": {},
     "output_type": "execute_result"
    }
   ],
   "source": [
    "\"\"\"\n",
    "What are the values of the following expressions?\n",
    "'Hello'.upper()\n",
    "'Hello'.upper().isupper()\n",
    "'Hello'.upper().lower()\n",
    "\"\"\"\n",
    "'Hello'.upper()"
   ]
  },
  {
   "cell_type": "code",
   "execution_count": 27,
   "id": "2c1d88e9",
   "metadata": {},
   "outputs": [
    {
     "data": {
      "text/plain": [
       "True"
      ]
     },
     "execution_count": 27,
     "metadata": {},
     "output_type": "execute_result"
    }
   ],
   "source": [
    "'Hello'.upper().isupper()"
   ]
  },
  {
   "cell_type": "code",
   "execution_count": 28,
   "id": "08621ee4",
   "metadata": {},
   "outputs": [
    {
     "data": {
      "text/plain": [
       "'hello'"
      ]
     },
     "execution_count": 28,
     "metadata": {},
     "output_type": "execute_result"
    }
   ],
   "source": [
    "'Hello'.upper().lower()"
   ]
  },
  {
   "cell_type": "code",
   "execution_count": null,
   "id": "92c72ec5",
   "metadata": {},
   "outputs": [],
   "source": [
    "\"\"\"\n",
    "What are the values of the following expressions?\n",
    "'Remember, remember, the fifth of July.'.split()\n",
    "'-'.join('There can only one.'.split())\n",
    "\"\"\""
   ]
  },
  {
   "cell_type": "code",
   "execution_count": 29,
   "id": "825b9cb6",
   "metadata": {},
   "outputs": [
    {
     "data": {
      "text/plain": [
       "['Remember,', 'remember,', 'the', 'fifth', 'of', 'July.']"
      ]
     },
     "execution_count": 29,
     "metadata": {},
     "output_type": "execute_result"
    }
   ],
   "source": [
    "'Remember, remember, the fifth of July.'.split()"
   ]
  },
  {
   "cell_type": "code",
   "execution_count": 30,
   "id": "cfb4787b",
   "metadata": {},
   "outputs": [
    {
     "data": {
      "text/plain": [
       "'There-can-only-one.'"
      ]
     },
     "execution_count": 30,
     "metadata": {},
     "output_type": "execute_result"
    }
   ],
   "source": [
    "'-'.join('There can only one.'.split())"
   ]
  },
  {
   "cell_type": "code",
   "execution_count": 43,
   "id": "d4235330",
   "metadata": {},
   "outputs": [
    {
     "data": {
      "text/plain": [
       "'-----------------------ineuron'"
      ]
     },
     "execution_count": 43,
     "metadata": {},
     "output_type": "execute_result"
    }
   ],
   "source": [
    "# What are the methods for right-justifying, left-justifying, and centering a string?\n",
    "\n",
    "s=\"ineuron\"\n",
    "s.rjust(30, '-')"
   ]
  },
  {
   "cell_type": "code",
   "execution_count": 40,
   "id": "3b61dd78",
   "metadata": {},
   "outputs": [
    {
     "data": {
      "text/plain": [
       "'Full stack from ineuron-------'"
      ]
     },
     "execution_count": 40,
     "metadata": {},
     "output_type": "execute_result"
    }
   ],
   "source": [
    "s=\" ineuron\"\n",
    "s.ljust(30, '-')"
   ]
  },
  {
   "cell_type": "code",
   "execution_count": 44,
   "id": "64daece0",
   "metadata": {},
   "outputs": [
    {
     "data": {
      "text/plain": [
       "'----------- ineuron-----------'"
      ]
     },
     "execution_count": 44,
     "metadata": {},
     "output_type": "execute_result"
    }
   ],
   "source": [
    "s=\" ineuron\"\n",
    "s.center(30, '-')"
   ]
  },
  {
   "cell_type": "code",
   "execution_count": 46,
   "id": "abf4ff9a",
   "metadata": {},
   "outputs": [
    {
     "name": "stdout",
     "output_type": "stream",
     "text": [
      "                         ineuron\n"
     ]
    },
    {
     "data": {
      "text/plain": [
       "'ineuron'"
      ]
     },
     "execution_count": 46,
     "metadata": {},
     "output_type": "execute_result"
    }
   ],
   "source": [
    "# What is the best way to remove whitespace characters from the start or end?\n",
    "\n",
    "# use strip()\n",
    "\n",
    "s=\"                         ineuron\"\n",
    "print(s)\n",
    "s.lstrip()"
   ]
  },
  {
   "cell_type": "code",
   "execution_count": 48,
   "id": "f0c74543",
   "metadata": {},
   "outputs": [
    {
     "name": "stdout",
     "output_type": "stream",
     "text": [
      "      ineuron                    \n"
     ]
    },
    {
     "data": {
      "text/plain": [
       "'      ineuron'"
      ]
     },
     "execution_count": 48,
     "metadata": {},
     "output_type": "execute_result"
    }
   ],
   "source": [
    "s=\"      ineuron                    \"\n",
    "print(s)\n",
    "s.rstrip()"
   ]
  },
  {
   "cell_type": "code",
   "execution_count": null,
   "id": "d84ef9e8",
   "metadata": {},
   "outputs": [],
   "source": []
  }
 ],
 "metadata": {
  "kernelspec": {
   "display_name": "Python 3 (ipykernel)",
   "language": "python",
   "name": "python3"
  },
  "language_info": {
   "codemirror_mode": {
    "name": "ipython",
    "version": 3
   },
   "file_extension": ".py",
   "mimetype": "text/x-python",
   "name": "python",
   "nbconvert_exporter": "python",
   "pygments_lexer": "ipython3",
   "version": "3.9.12"
  }
 },
 "nbformat": 4,
 "nbformat_minor": 5
}

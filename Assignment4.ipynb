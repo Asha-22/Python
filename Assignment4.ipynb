{
 "cells": [
  {
   "cell_type": "code",
   "execution_count": 19,
   "id": "fd4e571f",
   "metadata": {},
   "outputs": [
    {
     "data": {
      "text/plain": [
       "list"
      ]
     },
     "execution_count": 19,
     "metadata": {},
     "output_type": "execute_result"
    }
   ],
   "source": [
    "#What exactly is []?\n",
    "\n",
    "# [] used while defining a list \n",
    "# empty list \n",
    "\n",
    "l=[]\n",
    "type(l)\n"
   ]
  },
  {
   "cell_type": "code",
   "execution_count": 20,
   "id": "ff7ce63c",
   "metadata": {},
   "outputs": [
    {
     "name": "stdout",
     "output_type": "stream",
     "text": [
      "[1, 2, 4]\n"
     ]
    }
   ],
   "source": [
    "l=[1,2,4]\n",
    "print(l)\n"
   ]
  },
  {
   "cell_type": "code",
   "execution_count": 23,
   "id": "e5e82a0f",
   "metadata": {},
   "outputs": [
    {
     "name": "stdout",
     "output_type": "stream",
     "text": [
      "[1, 2, 'hello', 'hello', 4]\n"
     ]
    }
   ],
   "source": [
    "#In a list of values stored in a variable called spam, how would you assign the value 'hello' as the third value?\n",
    "#(Assume [2, 4, 6, 8, 10] are in spam.)\n",
    "\n",
    "spam=[2,4,6,8,10]\n",
    "l.insert(2,'hello')\n",
    "print(l)"
   ]
  },
  {
   "cell_type": "code",
   "execution_count": 27,
   "id": "06983ab7",
   "metadata": {},
   "outputs": [
    {
     "name": "stdout",
     "output_type": "stream",
     "text": [
      "[2, 4, 'hello', 6, 8, 10]\n"
     ]
    }
   ],
   "source": [
    "#In a list of values stored in a variable called spam, how would you assign the value 'hello' as the third value?\n",
    "#(Assume [2, 4, 6, 8, 10] are in spam.)\n",
    "\n",
    "spam=[2,4,6,8,10]\n",
    "spam.insert(2,'hello')\n",
    "print(spam)"
   ]
  },
  {
   "cell_type": "code",
   "execution_count": 29,
   "id": "b64ba5a7",
   "metadata": {},
   "outputs": [
    {
     "name": "stdout",
     "output_type": "stream",
     "text": [
      "d\n"
     ]
    }
   ],
   "source": [
    "# Let's pretend the spam includes the list ['a', 'b', 'c', 'd'] .\n",
    "# What is the value of spam[int(int('3' * 2) / 11)]?\n",
    "\n",
    "spam=['a', 'b', 'c', 'd']\n",
    "\n",
    "i=spam[int(int('3' * 2) / 11)]\n",
    "print(i)"
   ]
  },
  {
   "cell_type": "code",
   "execution_count": 33,
   "id": "9bec9326",
   "metadata": {},
   "outputs": [
    {
     "name": "stdout",
     "output_type": "stream",
     "text": [
      "d\n"
     ]
    }
   ],
   "source": [
    "# Let's pretend the spam includes the list ['a', 'b', 'c', 'd'] .\n",
    "# What is the value of spam[-1]?\n",
    "\n",
    "j=spam[-1]\n",
    "print(j)"
   ]
  },
  {
   "cell_type": "code",
   "execution_count": 35,
   "id": "d74fb1ff",
   "metadata": {},
   "outputs": [
    {
     "name": "stdout",
     "output_type": "stream",
     "text": [
      "['a', 'b']\n"
     ]
    }
   ],
   "source": [
    "# Let's pretend the spam includes the list ['a', 'b', 'c', 'd'] .\n",
    "# What is the value of spam[:2]?\n",
    "\n",
    "k=spam[:2]\n",
    "print(k)"
   ]
  },
  {
   "cell_type": "code",
   "execution_count": 38,
   "id": "246b5a05",
   "metadata": {},
   "outputs": [
    {
     "name": "stdout",
     "output_type": "stream",
     "text": [
      "1\n"
     ]
    }
   ],
   "source": [
    "# Let's pretend bacon has the list [3.14, 'cat,' 11, 'cat,' True] .\n",
    "# What is the value of bacon.index('cat')?\n",
    "\n",
    "bacon=[3.14,'cat', 11, 'cat', True]   # I have assumed that there is an typing mistake and have consider the list as below\n",
    "\n",
    "a=bacon.index('cat')\n",
    "\n",
    "print(a)"
   ]
  },
  {
   "cell_type": "code",
   "execution_count": 46,
   "id": "3ee9b362",
   "metadata": {},
   "outputs": [
    {
     "name": "stdout",
     "output_type": "stream",
     "text": [
      "[3.14, 'cat', 11, 'cat', True, 99]\n"
     ]
    }
   ],
   "source": [
    "# Let's pretend bacon has the list [3.14, 'cat,' 11, 'cat,' True] .\n",
    "# How does bacon.append(99) change the look of the list value in bacon?\n",
    "\n",
    "bacon.append(99)\n",
    "print(bacon)\n",
    "\n",
    "# 99 will be appended at the end of the list "
   ]
  },
  {
   "cell_type": "code",
   "execution_count": 48,
   "id": "6e9c987c",
   "metadata": {},
   "outputs": [
    {
     "name": "stdout",
     "output_type": "stream",
     "text": [
      "[3.14, 11, True, 99]\n"
     ]
    }
   ],
   "source": [
    "# Let's pretend bacon has the list [3.14, 'cat,' 11, 'cat,' True] .\n",
    "# How does bacon.remove('cat') change the look of the list in bacon?\n",
    "\n",
    "bacon.remove('cat')\n",
    "print(bacon)"
   ]
  },
  {
   "cell_type": "code",
   "execution_count": 52,
   "id": "e2419a81",
   "metadata": {},
   "outputs": [
    {
     "name": "stdout",
     "output_type": "stream",
     "text": [
      "[2, 3, 4, 2, 3, 4]\n",
      "[2, 3, 4, 2, 3, 4, 2, 3, 4]\n"
     ]
    }
   ],
   "source": [
    "# What are the list concatenation and list replication operators?\n",
    "\n",
    "# + is list concatination operator and * is list replication operator.\n",
    "\n",
    "a=[2,3,4]\n",
    "\n",
    "\n",
    "print(a+a)\n",
    "\n",
    "print(a*3)"
   ]
  },
  {
   "cell_type": "code",
   "execution_count": 53,
   "id": "6708ef60",
   "metadata": {},
   "outputs": [
    {
     "name": "stdout",
     "output_type": "stream",
     "text": [
      "[2, 3, 'insert', 4]\n",
      "[2, 3, 'insert', 4, 'end']\n"
     ]
    }
   ],
   "source": [
    "# What is difference between the list methods append() and insert()?\n",
    "\n",
    "# insert() - add/insert a new element to the list at a specific index/position.\n",
    "# append() - add/insert a new element to the end of the list. \n",
    "\n",
    "a=[2,3,4]\n",
    "\n",
    "a.insert(2,'insert')\n",
    "print(a)\n",
    "\n",
    "a.append(\"end\")\n",
    "print(a)"
   ]
  },
  {
   "cell_type": "code",
   "execution_count": 55,
   "id": "80f2d5a4",
   "metadata": {},
   "outputs": [
    {
     "name": "stdout",
     "output_type": "stream",
     "text": [
      "[2, 4, 5]\n",
      "[2, 4]\n"
     ]
    }
   ],
   "source": [
    "# What are the two methods for removing items from a list?\n",
    "\n",
    "#We can use pop() or remove() methods for removing items from a list.\n",
    "\n",
    "a=[2,3,4,5]\n",
    "\n",
    "a.remove(3)\n",
    "print(a)\n",
    "a.pop()\n",
    "print(a)\n",
    "\n",
    "# remove ()- removes the specific element from the list\n",
    "#pop() - pops out the last element in the list "
   ]
  },
  {
   "cell_type": "code",
   "execution_count": null,
   "id": "14eecf7f",
   "metadata": {},
   "outputs": [],
   "source": [
    "# Describe how list values and string values are identical.\n",
    "\n",
    "# both are used to store values\n",
    "# both are sequence \n",
    "\n"
   ]
  },
  {
   "cell_type": "code",
   "execution_count": 19,
   "id": "c1c93d7f",
   "metadata": {},
   "outputs": [
    {
     "name": "stdout",
     "output_type": "stream",
     "text": [
      "[1, 2, 3, 4]\n",
      "<class 'list'>\n",
      "[1, 5, 2, 3, 4]\n",
      "<class 'tuple'>\n"
     ]
    },
    {
     "ename": "TypeError",
     "evalue": "'tuple' object does not support item assignment",
     "output_type": "error",
     "traceback": [
      "\u001b[1;31m---------------------------------------------------------------------------\u001b[0m",
      "\u001b[1;31mTypeError\u001b[0m                                 Traceback (most recent call last)",
      "Input \u001b[1;32mIn [19]\u001b[0m, in \u001b[0;36m<cell line: 22>\u001b[1;34m()\u001b[0m\n\u001b[0;32m     20\u001b[0m t\u001b[38;5;241m=\u001b[39m(\u001b[38;5;124m'\u001b[39m\u001b[38;5;124ma\u001b[39m\u001b[38;5;124m'\u001b[39m,\u001b[38;5;124m'\u001b[39m\u001b[38;5;124mb\u001b[39m\u001b[38;5;124m'\u001b[39m,\u001b[38;5;124m'\u001b[39m\u001b[38;5;124mc\u001b[39m\u001b[38;5;124m'\u001b[39m)\n\u001b[0;32m     21\u001b[0m \u001b[38;5;28mprint\u001b[39m(\u001b[38;5;28mtype\u001b[39m(t))\n\u001b[1;32m---> 22\u001b[0m t[\u001b[38;5;241m0\u001b[39m]\u001b[38;5;241m=\u001b[39m(\u001b[38;5;124m'\u001b[39m\u001b[38;5;124md\u001b[39m\u001b[38;5;124m'\u001b[39m)\n",
      "\u001b[1;31mTypeError\u001b[0m: 'tuple' object does not support item assignment"
     ]
    }
   ],
   "source": [
    " # What's the difference between tuples and lists?\n",
    "\"\"\"\n",
    "    Lists\n",
    "    They are mutable i.e can change or update the elements of list after creation. \n",
    "    Suits best for insertion and updation operations. \n",
    "    Elements are enclosed in square brackets.\n",
    "    \n",
    "    Tuples\n",
    "    They are immutable i.e can not alter the contents after creation. \n",
    "    Suits best for read only opertaion. \n",
    "    Elements are enclosed in round brackets\n",
    "\"\"\"\n",
    "    \n",
    "l=[1,2,3,4]\n",
    "print(l)\n",
    "print(type(l))\n",
    "l.insert(1,5)\n",
    "print(l)\n",
    "\n",
    "t=('a','b','c')\n",
    "print(type(t))\n",
    "t[0]=('d')\n"
   ]
  },
  {
   "cell_type": "code",
   "execution_count": 20,
   "id": "1210e911",
   "metadata": {},
   "outputs": [
    {
     "name": "stdout",
     "output_type": "stream",
     "text": [
      "42\n"
     ]
    }
   ],
   "source": [
    "# How do you type a tuple value that only contains the integer 42?\n",
    "\n",
    "t=(42)\n",
    "print(t)\n",
    "\n"
   ]
  },
  {
   "cell_type": "code",
   "execution_count": 22,
   "id": "0bc2d773",
   "metadata": {},
   "outputs": [
    {
     "name": "stdout",
     "output_type": "stream",
     "text": [
      "<class 'list'>\n",
      "[1, 2, 3, 4]\n",
      "<class 'tuple'>\n",
      "(1, 2, 3, 4)\n",
      "<class 'tuple'>\n",
      "('a', 'b', 'c')\n",
      "<class 'list'>\n",
      "['a', 'b', 'c']\n"
     ]
    }
   ],
   "source": [
    "# How do you get a list value's tuple form? How do you get a tuple value's list form?\n",
    "\n",
    "l= [1,2,3,4]\n",
    "print(type(l))\n",
    "print(l)\n",
    "\n",
    "t=tuple(l)\n",
    "print(type(t))\n",
    "print(t)\n",
    "\n",
    "T=('a', 'b', 'c')\n",
    "print(type(T))\n",
    "print(T)\n",
    "\n",
    "L=list(T)\n",
    "print(type(L))\n",
    "print(L)"
   ]
  },
  {
   "cell_type": "code",
   "execution_count": null,
   "id": "c8d1e475",
   "metadata": {},
   "outputs": [],
   "source": [
    "# Variables that \"contain\" list values are not necessarily lists themselves. Instead, what do they contain?\n",
    "\n",
    "It contains references to the list values . "
   ]
  },
  {
   "cell_type": "code",
   "execution_count": 29,
   "id": "0d08b04f",
   "metadata": {},
   "outputs": [
    {
     "name": "stdout",
     "output_type": "stream",
     "text": [
      "[[1, 2], [3, 4], [5, 6]]\n",
      "[[1, 2], [3, 4], [5, 6]]\n",
      "-------------\n",
      "[[1, 2], [3, 'a'], [7, 8], [5, 6]]\n",
      "[[1, 2], [3, 'a'], [5, 6]]\n"
     ]
    }
   ],
   "source": [
    "# How do you distinguish between copy.copy() and copy.deepcopy()?\n",
    "\n",
    "import copy\n",
    "old=[[1,2], [3,4], [5,6]]\n",
    "new=copy.copy(old)\n",
    "\n",
    "print(old)\n",
    "print(new)\n",
    "print(\"-------------\")\n",
    "old[1][1]='a'\n",
    "old.insert(2,[7,8])\n",
    "\n",
    "print(old)\n",
    "print(new)\n",
    "\n",
    "\n",
    "\"\"\"\n",
    "when we use copy.copy  to copy from old list to new list, the new list will contain references to all the original objects of old list. \n",
    "So, any changes made to the old list will also get reflected in new list.  \n",
    "But when we add new item to old list after copying, this will not be reflected in new list . \n",
    "\"\"\""
   ]
  },
  {
   "cell_type": "code",
   "execution_count": 26,
   "id": "bde31e5d",
   "metadata": {},
   "outputs": [
    {
     "name": "stdout",
     "output_type": "stream",
     "text": [
      "[[1, 2], [3, 4], [5, 6]]\n",
      "[[1, 2], [3, 4], [5, 6]]\n",
      "-------------\n",
      "[[1, 2], [3, 'a'], [5, 6]]\n",
      "[[1, 2], [3, 4], [5, 6]]\n"
     ]
    }
   ],
   "source": [
    "\"\"\"\n",
    "deep copy creates an independent copy of all the elements from the original.  \n",
    "Hence , any changes made to the old copy will not be reflected to the new copy \n",
    "\"\"\"\n",
    "\n",
    "\n",
    "import copy\n",
    "old=[[1,2], [3,4], [5,6]]\n",
    "new=copy.deepcopy(old)\n",
    "\n",
    "print(old)\n",
    "print(new)\n",
    "print(\"-------------\")\n",
    "old[1][1]='a'\n",
    "\n",
    "print(old)\n",
    "print(new)\n"
   ]
  }
 ],
 "metadata": {
  "kernelspec": {
   "display_name": "Python 3 (ipykernel)",
   "language": "python",
   "name": "python3"
  },
  "language_info": {
   "codemirror_mode": {
    "name": "ipython",
    "version": 3
   },
   "file_extension": ".py",
   "mimetype": "text/x-python",
   "name": "python",
   "nbconvert_exporter": "python",
   "pygments_lexer": "ipython3",
   "version": "3.9.12"
  }
 },
 "nbformat": 4,
 "nbformat_minor": 5
}

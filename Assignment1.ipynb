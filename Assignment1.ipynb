{
 "cells": [
  {
   "cell_type": "markdown",
   "id": "c8366735",
   "metadata": {},
   "source": [
    "In the below elements which of them are values or an expression? eg:- values can be integer or string and expressions will be mathematical operators.\n",
    "\n",
    "* -> expression\n",
    "'hello' -> values\n",
    "- -> expression\n",
    "/ -> expression\n",
    "+ -> expression\n",
    "6 -> values"
   ]
  },
  {
   "cell_type": "markdown",
   "id": "7246a049",
   "metadata": {},
   "source": [
    "What is the difference between string and variable?\n",
    "\n",
    "\n",
    "String: stores text  . Its atype of variable Ex: 'python', \"python\"\n",
    "Value: stores values. Ex: 10, 20.4"
   ]
  },
  {
   "cell_type": "markdown",
   "id": "5d02357d",
   "metadata": {},
   "source": [
    "Describe three different data types.\n",
    "\n",
    "Integer - stores whole numbers. Ex: 8, 26\n",
    "String - storesliteral text enclosed either in single quote or double quote . Ex: 'python', \"23\", \"python\"\n",
    "Boolean - logical value: True/False."
   ]
  },
  {
   "cell_type": "markdown",
   "id": "ccbe1987",
   "metadata": {},
   "source": [
    "What is an expression made up of? What do all expressions do?\n",
    "\n",
    "An expression consists of values and an arthematic operator. Expressions execute the arithematic operator on he specified values. "
   ]
  },
  {
   "cell_type": "markdown",
   "id": "cb14ca81",
   "metadata": {},
   "source": [
    "This assignment statements, like spam = 10. What is the difference between an expression and a statement?\n",
    "\n",
    "Expression: Evaluates the given values against the given operator. Ex: 2+3. Here , it computes the addition on values 2 and 3 and gives the result. \n",
    "Statement : Execute a specific instruction. Ex: spam=10. Here, it assigns value 10 to variable spam. \n",
    "    "
   ]
  },
  {
   "cell_type": "markdown",
   "id": "757f0ef1",
   "metadata": {},
   "source": [
    "After running the following code, what does the variable bacon contain?\n",
    "bacon = 22\n",
    "bacon + 1\n",
    " The variable bacon contain 22 "
   ]
  },
  {
   "cell_type": "code",
   "execution_count": 1,
   "id": "4f8a0f07",
   "metadata": {},
   "outputs": [],
   "source": [
    "bacon =22"
   ]
  },
  {
   "cell_type": "code",
   "execution_count": 2,
   "id": "43faf042",
   "metadata": {},
   "outputs": [
    {
     "data": {
      "text/plain": [
       "22"
      ]
     },
     "execution_count": 2,
     "metadata": {},
     "output_type": "execute_result"
    }
   ],
   "source": [
    "bacon"
   ]
  },
  {
   "cell_type": "code",
   "execution_count": 3,
   "id": "4c86fd24",
   "metadata": {},
   "outputs": [
    {
     "data": {
      "text/plain": [
       "23"
      ]
     },
     "execution_count": 3,
     "metadata": {},
     "output_type": "execute_result"
    }
   ],
   "source": [
    "bacon+1"
   ]
  },
  {
   "cell_type": "code",
   "execution_count": 4,
   "id": "45b635cb",
   "metadata": {},
   "outputs": [
    {
     "data": {
      "text/plain": [
       "22"
      ]
     },
     "execution_count": 4,
     "metadata": {},
     "output_type": "execute_result"
    }
   ],
   "source": [
    "bacon"
   ]
  },
  {
   "cell_type": "markdown",
   "id": "79094753",
   "metadata": {},
   "source": [
    "What should the values of the following two terms be?\n",
    "'spam' + 'spamspam'\n",
    "'spam' * 3\n"
   ]
  },
  {
   "cell_type": "code",
   "execution_count": 10,
   "id": "085ab9e0",
   "metadata": {},
   "outputs": [
    {
     "data": {
      "text/plain": [
       "'spamspamspam'"
      ]
     },
     "execution_count": 10,
     "metadata": {},
     "output_type": "execute_result"
    }
   ],
   "source": [
    "'spam' + 'spamspam'"
   ]
  },
  {
   "cell_type": "code",
   "execution_count": 11,
   "id": "b6c637ed",
   "metadata": {},
   "outputs": [
    {
     "data": {
      "text/plain": [
       "'spamspamspam'"
      ]
     },
     "execution_count": 11,
     "metadata": {},
     "output_type": "execute_result"
    }
   ],
   "source": [
    "'spam' * 3"
   ]
  },
  {
   "cell_type": "markdown",
   "id": "58a1775a",
   "metadata": {},
   "source": [
    "Why is eggs a valid variable name while 100 is invalid?\n",
    "Because , in python a variable name should start with a letter or underscore . "
   ]
  },
  {
   "cell_type": "code",
   "execution_count": 13,
   "id": "f796eea9",
   "metadata": {},
   "outputs": [],
   "source": [
    "eggs=2\n"
   ]
  },
  {
   "cell_type": "code",
   "execution_count": 14,
   "id": "95895282",
   "metadata": {},
   "outputs": [
    {
     "data": {
      "text/plain": [
       "2"
      ]
     },
     "execution_count": 14,
     "metadata": {},
     "output_type": "execute_result"
    }
   ],
   "source": [
    "eggs"
   ]
  },
  {
   "cell_type": "code",
   "execution_count": 15,
   "id": "40b6b9d9",
   "metadata": {},
   "outputs": [
    {
     "ename": "SyntaxError",
     "evalue": "cannot assign to literal (1023598694.py, line 1)",
     "output_type": "error",
     "traceback": [
      "\u001b[1;36m  Input \u001b[1;32mIn [15]\u001b[1;36m\u001b[0m\n\u001b[1;33m    100='py'\u001b[0m\n\u001b[1;37m    ^\u001b[0m\n\u001b[1;31mSyntaxError\u001b[0m\u001b[1;31m:\u001b[0m cannot assign to literal\n"
     ]
    }
   ],
   "source": [
    "100='py'"
   ]
  },
  {
   "cell_type": "code",
   "execution_count": 16,
   "id": "b54d8f31",
   "metadata": {},
   "outputs": [],
   "source": [
    "eggs='py'"
   ]
  },
  {
   "cell_type": "code",
   "execution_count": 17,
   "id": "ef31bf9a",
   "metadata": {},
   "outputs": [
    {
     "data": {
      "text/plain": [
       "'py'"
      ]
     },
     "execution_count": 17,
     "metadata": {},
     "output_type": "execute_result"
    }
   ],
   "source": [
    "eggs"
   ]
  },
  {
   "cell_type": "code",
   "execution_count": 18,
   "id": "15228eeb",
   "metadata": {},
   "outputs": [
    {
     "ename": "SyntaxError",
     "evalue": "cannot assign to literal (1041846470.py, line 1)",
     "output_type": "error",
     "traceback": [
      "\u001b[1;36m  Input \u001b[1;32mIn [18]\u001b[1;36m\u001b[0m\n\u001b[1;33m    100=2\u001b[0m\n\u001b[1;37m    ^\u001b[0m\n\u001b[1;31mSyntaxError\u001b[0m\u001b[1;31m:\u001b[0m cannot assign to literal\n"
     ]
    }
   ],
   "source": [
    "100=2"
   ]
  },
  {
   "cell_type": "markdown",
   "id": "bc5f2032",
   "metadata": {},
   "source": [
    "What three functions can be used to get the integer, floating-point number, or string version of a value?\n",
    "int(), float(), str()"
   ]
  },
  {
   "cell_type": "code",
   "execution_count": 19,
   "id": "b7697b9a",
   "metadata": {},
   "outputs": [],
   "source": [
    "s=10\n"
   ]
  },
  {
   "cell_type": "code",
   "execution_count": 20,
   "id": "69761836",
   "metadata": {},
   "outputs": [
    {
     "data": {
      "text/plain": [
       "int"
      ]
     },
     "execution_count": 20,
     "metadata": {},
     "output_type": "execute_result"
    }
   ],
   "source": [
    "type(s)"
   ]
  },
  {
   "cell_type": "code",
   "execution_count": 21,
   "id": "c72c2622",
   "metadata": {},
   "outputs": [],
   "source": [
    "r=float(s)"
   ]
  },
  {
   "cell_type": "code",
   "execution_count": 22,
   "id": "aa52d568",
   "metadata": {},
   "outputs": [
    {
     "data": {
      "text/plain": [
       "10.0"
      ]
     },
     "execution_count": 22,
     "metadata": {},
     "output_type": "execute_result"
    }
   ],
   "source": [
    "r"
   ]
  },
  {
   "cell_type": "code",
   "execution_count": 23,
   "id": "61ffb951",
   "metadata": {},
   "outputs": [],
   "source": [
    "a=str(s)"
   ]
  },
  {
   "cell_type": "code",
   "execution_count": 24,
   "id": "88cba962",
   "metadata": {},
   "outputs": [
    {
     "data": {
      "text/plain": [
       "'10'"
      ]
     },
     "execution_count": 24,
     "metadata": {},
     "output_type": "execute_result"
    }
   ],
   "source": [
    "a"
   ]
  },
  {
   "cell_type": "code",
   "execution_count": 25,
   "id": "b0efdce3",
   "metadata": {},
   "outputs": [],
   "source": [
    "b=2.5"
   ]
  },
  {
   "cell_type": "code",
   "execution_count": 26,
   "id": "c1e218a9",
   "metadata": {},
   "outputs": [
    {
     "data": {
      "text/plain": [
       "float"
      ]
     },
     "execution_count": 26,
     "metadata": {},
     "output_type": "execute_result"
    }
   ],
   "source": [
    "type(b)"
   ]
  },
  {
   "cell_type": "code",
   "execution_count": 27,
   "id": "77189d75",
   "metadata": {},
   "outputs": [],
   "source": [
    "i=int(b)"
   ]
  },
  {
   "cell_type": "code",
   "execution_count": 28,
   "id": "3d960128",
   "metadata": {},
   "outputs": [
    {
     "data": {
      "text/plain": [
       "2"
      ]
     },
     "execution_count": 28,
     "metadata": {},
     "output_type": "execute_result"
    }
   ],
   "source": [
    "i"
   ]
  },
  {
   "cell_type": "markdown",
   "id": "4a437a72",
   "metadata": {},
   "source": [
    "Why does this expression cause an error? How can you fix it?\n",
    "'I have eaten ' + 99 + ' burritos.'\n",
    "\n",
    "Because we can concatenate only string using + operator. 99 is an integer here. \n",
    "It can be fixed by converting 99 to string. \n"
   ]
  },
  {
   "cell_type": "code",
   "execution_count": 29,
   "id": "c43eafdc",
   "metadata": {},
   "outputs": [
    {
     "ename": "TypeError",
     "evalue": "can only concatenate str (not \"int\") to str",
     "output_type": "error",
     "traceback": [
      "\u001b[1;31m---------------------------------------------------------------------------\u001b[0m",
      "\u001b[1;31mTypeError\u001b[0m                                 Traceback (most recent call last)",
      "Input \u001b[1;32mIn [29]\u001b[0m, in \u001b[0;36m<cell line: 1>\u001b[1;34m()\u001b[0m\n\u001b[1;32m----> 1\u001b[0m \u001b[38;5;124;43m'\u001b[39;49m\u001b[38;5;124;43mI have eaten \u001b[39;49m\u001b[38;5;124;43m'\u001b[39;49m\u001b[43m \u001b[49m\u001b[38;5;241;43m+\u001b[39;49m\u001b[43m \u001b[49m\u001b[38;5;241;43m99\u001b[39;49m \u001b[38;5;241m+\u001b[39m \u001b[38;5;124m'\u001b[39m\u001b[38;5;124m burritos.\u001b[39m\u001b[38;5;124m'\u001b[39m\n",
      "\u001b[1;31mTypeError\u001b[0m: can only concatenate str (not \"int\") to str"
     ]
    }
   ],
   "source": [
    "'I have eaten ' + 99 + ' burritos.'"
   ]
  },
  {
   "cell_type": "code",
   "execution_count": 30,
   "id": "f777ec84",
   "metadata": {},
   "outputs": [
    {
     "data": {
      "text/plain": [
       "'I have eaten 99 burritos.'"
      ]
     },
     "execution_count": 30,
     "metadata": {},
     "output_type": "execute_result"
    }
   ],
   "source": [
    "'I have eaten ' + '99' + ' burritos.'"
   ]
  }
 ],
 "metadata": {
  "kernelspec": {
   "display_name": "Python 3 (ipykernel)",
   "language": "python",
   "name": "python3"
  },
  "language_info": {
   "codemirror_mode": {
    "name": "ipython",
    "version": 3
   },
   "file_extension": ".py",
   "mimetype": "text/x-python",
   "name": "python",
   "nbconvert_exporter": "python",
   "pygments_lexer": "ipython3",
   "version": "3.9.12"
  }
 },
 "nbformat": 4,
 "nbformat_minor": 5
}

{
 "cells": [
  {
   "cell_type": "code",
   "execution_count": 16,
   "id": "0133999a",
   "metadata": {},
   "outputs": [
    {
     "ename": "AssertionError",
     "evalue": "Spam is Negative",
     "output_type": "error",
     "traceback": [
      "\u001b[1;31m---------------------------------------------------------------------------\u001b[0m",
      "\u001b[1;31mAssertionError\u001b[0m                            Traceback (most recent call last)",
      "Input \u001b[1;32mIn [16]\u001b[0m, in \u001b[0;36m<cell line: 4>\u001b[1;34m()\u001b[0m\n\u001b[0;32m      1\u001b[0m \u001b[38;5;66;03m# Create an assert statement that throws an AssertionError if the variable spam is a negative integer.\u001b[39;00m\n\u001b[0;32m      3\u001b[0m spam \u001b[38;5;241m=\u001b[39m \u001b[38;5;241m-\u001b[39m\u001b[38;5;241m3\u001b[39m\n\u001b[1;32m----> 4\u001b[0m \u001b[38;5;28;01massert\u001b[39;00m spam \u001b[38;5;241m>\u001b[39m \u001b[38;5;241m0\u001b[39m, \u001b[38;5;124m'\u001b[39m\u001b[38;5;124mSpam is Negative\u001b[39m\u001b[38;5;124m'\u001b[39m\n",
      "\u001b[1;31mAssertionError\u001b[0m: Spam is Negative"
     ]
    }
   ],
   "source": [
    "# Create an assert statement that throws an AssertionError if the variable spam is a negative integer.\n",
    "\n",
    "spam = -3\n",
    "assert spam > 0, 'Spam is Negative' "
   ]
  },
  {
   "cell_type": "code",
   "execution_count": 17,
   "id": "54f4d4fd",
   "metadata": {},
   "outputs": [],
   "source": [
    "spam = 3\n",
    "assert spam > 0, 'Spam is Negative' "
   ]
  },
  {
   "cell_type": "code",
   "execution_count": 35,
   "id": "c997b62e",
   "metadata": {},
   "outputs": [
    {
     "ename": "AssertionError",
     "evalue": "The eggs and bacon variables contain the same string (case insensitive).",
     "output_type": "error",
     "traceback": [
      "\u001b[1;31m---------------------------------------------------------------------------\u001b[0m",
      "\u001b[1;31mAssertionError\u001b[0m                            Traceback (most recent call last)",
      "Input \u001b[1;32mIn [35]\u001b[0m, in \u001b[0;36m<cell line: 9>\u001b[1;34m()\u001b[0m\n\u001b[0;32m      6\u001b[0m eggs\u001b[38;5;241m=\u001b[39m\u001b[38;5;124m'\u001b[39m\u001b[38;5;124mhello\u001b[39m\u001b[38;5;124m'\u001b[39m\n\u001b[0;32m      7\u001b[0m bacon\u001b[38;5;241m=\u001b[39m\u001b[38;5;124m'\u001b[39m\u001b[38;5;124mHELLO\u001b[39m\u001b[38;5;124m'\u001b[39m\n\u001b[1;32m----> 9\u001b[0m \u001b[38;5;28;01massert\u001b[39;00m eggs\u001b[38;5;241m.\u001b[39mupper() \u001b[38;5;241m!=\u001b[39m bacon\u001b[38;5;241m.\u001b[39mupper(), \u001b[38;5;124m'\u001b[39m\u001b[38;5;124mThe eggs and bacon variables contain the same string (case insensitive).\u001b[39m\u001b[38;5;124m'\u001b[39m\n",
      "\u001b[1;31mAssertionError\u001b[0m: The eggs and bacon variables contain the same string (case insensitive)."
     ]
    }
   ],
   "source": [
    "\"\"\"\n",
    "Write an assert statement that triggers an AssertionError if the variables eggs and bacon contain strings that \n",
    "are the same as each other, even if their cases are different \n",
    "(that is, 'hello' and 'hello' are considered the same, and 'goodbye' and 'GOODbye' are also considered the same).\n",
    "\"\"\"\n",
    "eggs='hello'\n",
    "bacon='HELLO'\n",
    "\n",
    "assert eggs.upper() != bacon.upper(), 'The eggs and bacon variables contain the same string (case insensitive).'"
   ]
  },
  {
   "cell_type": "code",
   "execution_count": 41,
   "id": "68734a7e",
   "metadata": {},
   "outputs": [
    {
     "ename": "AssertionError",
     "evalue": "Asserts every time",
     "output_type": "error",
     "traceback": [
      "\u001b[1;31m---------------------------------------------------------------------------\u001b[0m",
      "\u001b[1;31mAssertionError\u001b[0m                            Traceback (most recent call last)",
      "Input \u001b[1;32mIn [41]\u001b[0m, in \u001b[0;36m<cell line: 3>\u001b[1;34m()\u001b[0m\n\u001b[0;32m      1\u001b[0m \u001b[38;5;66;03m# Create an assert statement that throws an AssertionError every time.\u001b[39;00m\n\u001b[1;32m----> 3\u001b[0m \u001b[38;5;28;01massert\u001b[39;00m \u001b[38;5;241m1\u001b[39m \u001b[38;5;241m!=\u001b[39m\u001b[38;5;241m1\u001b[39m ,\u001b[38;5;124m'\u001b[39m\u001b[38;5;124mAsserts every time\u001b[39m\u001b[38;5;124m'\u001b[39m\n",
      "\u001b[1;31mAssertionError\u001b[0m: Asserts every time"
     ]
    }
   ],
   "source": [
    "# Create an assert statement that throws an AssertionError every time.\n",
    "\n",
    "assert 1 !=1 ,'Asserts every time'"
   ]
  },
  {
   "cell_type": "code",
   "execution_count": null,
   "id": "28bd1218",
   "metadata": {},
   "outputs": [],
   "source": [
    "# What are the two lines that must be present in your software in order to call logging.debug()?\n",
    "\n",
    "import logging logging.basicConfig(level=logging.DEBUG, format=' %(asctime)s - %(levelname)s - %(message)s')"
   ]
  },
  {
   "cell_type": "code",
   "execution_count": null,
   "id": "5f7df0a9",
   "metadata": {},
   "outputs": [],
   "source": [
    "# What are the two lines that your program must have in order to have logging.debug() send a logging message to a file named programLog.txt?\n",
    "\n",
    "import logging logging.basicConfig(filename='programLog.txt', level=logging.DEBUG, format=' %(asctime)s - %(levelname)s - %(message)s')"
   ]
  },
  {
   "cell_type": "code",
   "execution_count": null,
   "id": "17ecd5d6",
   "metadata": {},
   "outputs": [],
   "source": [
    "# What are the five levels of logging?\n",
    "\n",
    "# DEBUG \n",
    "# INFO\n",
    "# WARNING\n",
    "# ERROR \n",
    "# CRITICAL"
   ]
  },
  {
   "cell_type": "code",
   "execution_count": null,
   "id": "47ccf319",
   "metadata": {},
   "outputs": [],
   "source": [
    "# What line of code would you add to your software to disable all logging messages?\n",
    "\n",
    "logging.disable(logging.CRITICAL)"
   ]
  },
  {
   "cell_type": "code",
   "execution_count": null,
   "id": "433572a8",
   "metadata": {},
   "outputs": [],
   "source": [
    "# Why is using logging messages better than using print() to display the same message?\n",
    "\n",
    "\"\"\"\n",
    "Logging module provides time stamp\n",
    "It can be disabled easily by using logging.disable(logging.CRITICAL)\n",
    "Easy to use\n",
    "\"\"\"\n",
    "\n"
   ]
  },
  {
   "cell_type": "code",
   "execution_count": null,
   "id": "91e2139b",
   "metadata": {},
   "outputs": [],
   "source": [
    "# What are the differences between the Step Over, Step In, and Step Out buttons in the debugger?\n",
    "\n",
    "# Step Over - Executes the next line of code. If the next line of code is a function call, it does not step into its implementation\n",
    "\n",
    "# Step Into - Executes the next line of code. If the next line of code is a function call,it step\n",
    "\n",
    "# Step Out - executes until it returns from current execution"
   ]
  },
  {
   "cell_type": "code",
   "execution_count": null,
   "id": "398f1668",
   "metadata": {},
   "outputs": [],
   "source": [
    "# After you click Continue, when will the debugger stop ?\n",
    "\n",
    "# debugger will stop at breakpiont  "
   ]
  },
  {
   "cell_type": "code",
   "execution_count": null,
   "id": "37012efb",
   "metadata": {},
   "outputs": [],
   "source": [
    "# What is the concept of a breakpoint?\n",
    "\n",
    "# Breakpoint is used to break/pause at defined points(break point) during the execution/debugging"
   ]
  }
 ],
 "metadata": {
  "kernelspec": {
   "display_name": "Python 3 (ipykernel)",
   "language": "python",
   "name": "python3"
  },
  "language_info": {
   "codemirror_mode": {
    "name": "ipython",
    "version": 3
   },
   "file_extension": ".py",
   "mimetype": "text/x-python",
   "name": "python",
   "nbconvert_exporter": "python",
   "pygments_lexer": "ipython3",
   "version": "3.9.12"
  }
 },
 "nbformat": 4,
 "nbformat_minor": 5
}

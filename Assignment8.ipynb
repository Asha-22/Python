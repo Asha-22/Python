{
 "cells": [
  {
   "cell_type": "code",
   "execution_count": null,
   "id": "23a35f37",
   "metadata": {},
   "outputs": [],
   "source": [
    "# Is the Python Standard Library included with PyInputPlus?\n",
    "# PyInputPlus is not included in Python Standard Library.It can be installed separately using Pip command .\n",
    "# pip install PyInputPlus"
   ]
  },
  {
   "cell_type": "code",
   "execution_count": null,
   "id": "598ec42c",
   "metadata": {},
   "outputs": [],
   "source": [
    "# Why is PyInputPlus commonly imported with import pyinputplus as pypi?\n",
    "# pypi is an alias for PyInputPlus. pypi is usually used to shorten the name while calling mdoules function"
   ]
  },
  {
   "cell_type": "code",
   "execution_count": 3,
   "id": "c986af4f",
   "metadata": {},
   "outputs": [],
   "source": [
    "# How do you distinguish between inputInt() and inputFloat()?\n",
    "\n",
    "# inputInt() - used when integer value is expected; accepts integer and returns integer\n",
    "# inputFloat() - used when floating value is expected; accepts integer/float and returns float\n"
   ]
  },
  {
   "cell_type": "code",
   "execution_count": 7,
   "id": "a7f0f697",
   "metadata": {},
   "outputs": [],
   "source": [
    "# Using PyInputPlus, how do you ensure that the user enters a whole number between 0 and 99?\n",
    "\n",
    "# pyip.inputint(min=0, max=99)\n"
   ]
  },
  {
   "cell_type": "code",
   "execution_count": null,
   "id": "51befcd9",
   "metadata": {},
   "outputs": [],
   "source": [
    "# What is transferred to the keyword arguments allowRegexes and blockRegexes?\n",
    "\n",
    "# allowRegexes and blockRegexes accepts arguments that are either accepted or rejected by PyInpuPlus function."
   ]
  },
  {
   "cell_type": "code",
   "execution_count": null,
   "id": "d0265c0f",
   "metadata": {},
   "outputs": [],
   "source": [
    "# If a blank input is entered three times, what does inputStr(limit=3) do?\n",
    "\n",
    "# it raises RetryLimitException"
   ]
  },
  {
   "cell_type": "code",
   "execution_count": null,
   "id": "d7877eea",
   "metadata": {},
   "outputs": [],
   "source": [
    "# If blank input is entered three times, what does inputStr(limit=3, default='hello') do?\n",
    "\n",
    "# It returns the value 'hello' instead of RetryLimitException"
   ]
  }
 ],
 "metadata": {
  "kernelspec": {
   "display_name": "Python 3 (ipykernel)",
   "language": "python",
   "name": "python3"
  },
  "language_info": {
   "codemirror_mode": {
    "name": "ipython",
    "version": 3
   },
   "file_extension": ".py",
   "mimetype": "text/x-python",
   "name": "python",
   "nbconvert_exporter": "python",
   "pygments_lexer": "ipython3",
   "version": "3.9.12"
  }
 },
 "nbformat": 4,
 "nbformat_minor": 5
}

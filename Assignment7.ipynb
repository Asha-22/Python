{
 "cells": [
  {
   "cell_type": "code",
   "execution_count": 6,
   "id": "f78fc97e",
   "metadata": {},
   "outputs": [
    {
     "name": "stdout",
     "output_type": "stream",
     "text": [
      "['PY', 'PY']\n"
     ]
    }
   ],
   "source": [
    "# What is the name of the feature responsible for generating Regex objects?\n",
    "\n",
    "#re.compile() regerats REgex objects. \n",
    "\n",
    "import re\n",
    "search = re.compile('PY')\n",
    "result=search.findall(\"I am enrolled for PY course by ineuron through Fullstack PY\")\n",
    "print(result)"
   ]
  },
  {
   "cell_type": "code",
   "execution_count": 25,
   "id": "d235f742",
   "metadata": {},
   "outputs": [
    {
     "name": "stdout",
     "output_type": "stream",
     "text": [
      "PY\n",
      "ML\n",
      "PY\\nML\n",
      "PY\\nML\n"
     ]
    }
   ],
   "source": [
    "# Why do raw strings often appear in Regex objects?\n",
    "\n",
    "\n",
    "#Raw strings are used to keep the literal meaning of the meta characters. \n",
    "\n",
    "S='PY\\nML' # \\n is treated as new line character. \n",
    "print(S)\n",
    "\n",
    "S='PY\\\\nML' # If it is required to include \\n as part of the string, then use escape character to overread the special meaning of \\n\n",
    "print(S)\n",
    "\n",
    "S=r'PY\\nML' # OR make use of raw strings. Just use r character while defining the string \n",
    "print(S)"
   ]
  },
  {
   "cell_type": "code",
   "execution_count": 28,
   "id": "64917779",
   "metadata": {},
   "outputs": [
    {
     "name": "stdout",
     "output_type": "stream",
     "text": [
      "<re.Match object; span=(13, 16), match='Sci'>\n",
      "None\n"
     ]
    }
   ],
   "source": [
    "# What is the return value of the search() method?\n",
    "\n",
    "# The search() returns a matching object if found.\n",
    "\n",
    "text=\"ineuron Data Science\"\n",
    "\n",
    "SubStr= 'Sci'\n",
    "print(re.search(SubStr,text))\n",
    "\n",
    "SubStr1='PY'\n",
    "print(re.search(SubStr1,text))"
   ]
  },
  {
   "cell_type": "code",
   "execution_count": 34,
   "id": "58711b31",
   "metadata": {},
   "outputs": [
    {
     "name": "stdout",
     "output_type": "stream",
     "text": [
      "('am', '23')\n",
      "am\n",
      "23\n"
     ]
    }
   ],
   "source": [
    "# From a Match item, how do you get the actual strings that match the pattern?\n",
    "\n",
    "# A group is a part of a regex pattern enclosed in parentheses (). This method returns a tuple containing all the subgroups of the match.\n",
    "\n",
    "import re\n",
    "\n",
    "Str=\" I am 23\"\n",
    "\n",
    "res1= re.search(r\"(\\b[a-z]+\\b).+(\\b\\d+)\", Str)\n",
    "\n",
    "print(res1.groups())\n",
    "\n",
    "print(res1.group(1))\n",
    "print(res1.group(2))"
   ]
  },
  {
   "cell_type": "code",
   "execution_count": null,
   "id": "eabcd70d",
   "metadata": {},
   "outputs": [],
   "source": [
    "# In the regex which created from the r'(\\d\\d\\d)-(\\d\\d\\d-\\d\\d\\d\\d)', what does group zero cover? Group 2? Group 1?\n",
    "\n",
    "# Group 0 - Entire match \n",
    "# Group 1: Match with respect to first parentheses i.e (\\d\\d\\d)\n",
    "# Group 2: Match with respect to second parentheses i.e (\\d\\d\\d-\\d\\d\\d\\d)\n"
   ]
  },
  {
   "cell_type": "code",
   "execution_count": null,
   "id": "7094c631",
   "metadata": {},
   "outputs": [],
   "source": [
    "# In standard expression syntax, parentheses and intervals have distinct meanings. \n",
    "\n",
    "# How can you tell a regex that you want it to fit real parentheses and periods?\n",
    "\n",
    "# Parentheses and intervals can in included as part of regex by using back slash,  i.e by over writing the meaning for these characters."
   ]
  },
  {
   "cell_type": "code",
   "execution_count": null,
   "id": "210af911",
   "metadata": {},
   "outputs": [],
   "source": [
    "# The findall() method returns a string list or a list of string tuples. What causes it to return one of the two options?\n",
    "\n",
    "# findall() returns a list of string tuples on existance of groups in regex, if not it returns a string list .\n",
    "\n"
   ]
  },
  {
   "cell_type": "code",
   "execution_count": null,
   "id": "6650e2f6",
   "metadata": {},
   "outputs": [],
   "source": [
    "# In standard expressions, what does the | character mean? \n",
    "\n",
    "# | is called pipeline character. Used to specify multiple patterns. i.e. matching 'either' 'or' between the patterns. "
   ]
  },
  {
   "cell_type": "code",
   "execution_count": null,
   "id": "ad80f1fe",
   "metadata": {},
   "outputs": [],
   "source": [
    "# In regular expressions, what does the character stand for?\n",
    "\n",
    "# ?(Question mark) is used to match zero or one occurance. "
   ]
  },
  {
   "cell_type": "code",
   "execution_count": null,
   "id": "e81b462e",
   "metadata": {},
   "outputs": [],
   "source": [
    "# In regular expressions, what is the difference between the + and * characters?\n",
    "\n",
    "# +(Plus) match one or more occurance \n",
    "\n",
    "# *(Star) match zero or more occurance "
   ]
  },
  {
   "cell_type": "code",
   "execution_count": null,
   "id": "b8e69d3d",
   "metadata": {},
   "outputs": [],
   "source": [
    "# What is the difference between {4} and {4,5} in regular expression?\n",
    "\n",
    "# {4} matches exactly 4 instances in the group and {4,5} matches between 4 and 5 ."
   ]
  },
  {
   "cell_type": "code",
   "execution_count": null,
   "id": "f381223b",
   "metadata": {},
   "outputs": [],
   "source": [
    "# What do you mean by the \\d, \\w, and \\s shorthand character classes signify in regular expressions?\n",
    "\n",
    "# \\d matches single digit\n",
    "# \\w matches a word\n",
    "# \\s matches space "
   ]
  },
  {
   "cell_type": "code",
   "execution_count": null,
   "id": "98b76788",
   "metadata": {},
   "outputs": [],
   "source": [
    "# What do means by \\D, \\W, and \\S shorthand character classes signify in regular expressions?\n",
    "\n",
    "# \\D matches a single character that is not a digit\n",
    "# \\W matches a word\n",
    "# \\S matches space chacater"
   ]
  },
  {
   "cell_type": "code",
   "execution_count": 77,
   "id": "ba82420e",
   "metadata": {},
   "outputs": [
    {
     "name": "stdout",
     "output_type": "stream",
     "text": [
      "['ineuron', '']\n",
      "['', 'i', '', 'n', '', 'e', '', 'u', '', 'r', '', 'o', '', 'n', '']\n"
     ]
    }
   ],
   "source": [
    "# What is the difference between .*? and .*?\n",
    "\n",
    "# . matches any character except newline character \n",
    "# * matches zero or more occurences\n",
    "# ? zero or one occurence \n",
    "\n",
    "# .* matches any one character followed by zero or more occurences with respect to the regular expression\n",
    "# .*? matches \n",
    "\n",
    "import re\n",
    "s='ineuron'\n",
    "\n",
    "\n",
    "x= re.findall(\".*\", s)\n",
    "print(x)\n",
    "\n",
    "x= re.findall(\".*?\", s)\n",
    "print(x)\n"
   ]
  },
  {
   "cell_type": "code",
   "execution_count": null,
   "id": "bffcf73e",
   "metadata": {},
   "outputs": [],
   "source": [
    "# What is the syntax for matching both numbers and lowercase letters with a character class?\n",
    "\n",
    "# [0-9a-z] or [a-z0-9]"
   ]
  },
  {
   "cell_type": "code",
   "execution_count": 82,
   "id": "62ea3f39",
   "metadata": {},
   "outputs": [
    {
     "name": "stdout",
     "output_type": "stream",
     "text": [
      "<re.Match object; span=(1, 7), match='nEuRon'>\n"
     ]
    }
   ],
   "source": [
    "# What is the procedure for making a normal expression in regax case insensitive?\n",
    "\n",
    "# Use re.compile(Pattern to be matched/RE, re.IGNORECASE)\n",
    "\n",
    "s='inEuRon'\n",
    "x=re.compile('neuron',re.IGNORECASE)\n",
    "res=x.search(s)\n",
    "print(res)\n"
   ]
  },
  {
   "cell_type": "code",
   "execution_count": null,
   "id": "9a9d0a30",
   "metadata": {},
   "outputs": [],
   "source": [
    "# What does the . character normally match? What does it match if re.DOTALL is passed as 2nd argument in re.compile()?\n",
    "\n",
    "# .(Dot) character matches any charcter except newline. If it is required to consider even the newline character then. re.DOTALL can be used. "
   ]
  },
  {
   "cell_type": "code",
   "execution_count": 84,
   "id": "2e117707",
   "metadata": {},
   "outputs": [
    {
     "data": {
      "text/plain": [
       "'X drummers, X pipers, five rings, X hen'"
      ]
     },
     "execution_count": 84,
     "metadata": {},
     "output_type": "execute_result"
    }
   ],
   "source": [
    "# If numReg = re.compile(r'\\d+'), what will numRegex.sub('X', '11 drummers, 10 pipers, five rings, 4 hen') return?\n",
    "\n",
    "numRegex = re.compile(r'\\d+')\n",
    "numRegex.sub('X', '11 drummers, 10 pipers, five rings, 4 hen')"
   ]
  },
  {
   "cell_type": "code",
   "execution_count": null,
   "id": "51a5390b",
   "metadata": {},
   "outputs": [],
   "source": [
    "# What does passing re.VERBOSE as the 2nd argument to re.compile() allow to do?\n",
    "\n",
    "# re.VERBOSE - used to add comments and whitespace to the string in re.compile()"
   ]
  },
  {
   "cell_type": "code",
   "execution_count": 3,
   "id": "3e1c2078",
   "metadata": {},
   "outputs": [
    {
     "data": {
      "text/plain": [
       "[]"
      ]
     },
     "execution_count": 3,
     "metadata": {},
     "output_type": "execute_result"
    }
   ],
   "source": [
    "\"\"\"\n",
    "How would you write a regex that match a number with comma for every three digits? It must match the given following:\n",
    "'42'\n",
    "'1,234'\n",
    "'6,368,745'\n",
    "but not the following:\n",
    "'12,34,567' (which has only two digits between the commas)\n",
    "'1234' (which lacks commas)\n",
    "\"\"\"\n",
    "import re\n",
    "y=re.compile(r'^\\d{1,3}(,{3})*$')\n",
    "y.findall('42 1,234 6,368,745 12,34,567 1234')"
   ]
  },
  {
   "cell_type": "code",
   "execution_count": 51,
   "id": "548d532c",
   "metadata": {},
   "outputs": [
    {
     "data": {
      "text/plain": [
       "['Haruto Watanabe', 'Alice Watanabe', 'RoboCop Watanabe']"
      ]
     },
     "execution_count": 51,
     "metadata": {},
     "output_type": "execute_result"
    }
   ],
   "source": [
    "\"\"\"\n",
    "How would you write a regex that matches the full name of someone whose last name is Watanabe? You can assume that the first name that comes before it will always be one word that begins with a capital letter. The regex must match the following:\n",
    "'Haruto Watanabe'\n",
    "'Alice Watanabe'\n",
    "'RoboCop Watanabe'\n",
    "but not the following:\n",
    "'haruto Watanabe' (where the first name is not capitalized)\n",
    "'Mr. Watanabe' (where the preceding word has a nonletter character)\n",
    "'Watanabe' (which has no first name)\n",
    "'Haruto watanabe' (where Watanabe is not capitalized)\n",
    "\"\"\"\n",
    " \n",
    "x= re.compile(r'[A-Z][a-zA-Z]*\\sWatanabe')\n",
    "x.findall('Haruto Watanabe Alice Watanabe RoboCop Watanabe haruto Watanabe Mr.Watanabe Haruto watanabe Watanabe ')"
   ]
  },
  {
   "cell_type": "code",
   "execution_count": 3,
   "id": "3bfc30b6",
   "metadata": {},
   "outputs": [
    {
     "data": {
      "text/plain": [
       "[('Alice', 'eats', 'apples'),\n",
       " ('Bob', 'pets', 'cats'),\n",
       " ('Carol', 'throws', 'baseballs'),\n",
       " ('Alice', 'throws', 'Apples'),\n",
       " ('BOB', 'EATS', 'CATS')]"
      ]
     },
     "execution_count": 3,
     "metadata": {},
     "output_type": "execute_result"
    }
   ],
   "source": [
    "\"\"\"\n",
    "How would you write a regex that matches a sentence where the first word is either Alice, Bob, or Carol; the second word is either eats, pets, or throws; the third word is apples, cats, or baseballs; and the sentence ends with a period? This regex should be case-insensitive. It must match the following:\n",
    "'Alice eats apples.'\n",
    "'Bob pets cats.'\n",
    "'Carol throws baseballs.'\n",
    "'Alice throws Apples.'\n",
    "'BOB EATS CATS.'\n",
    "but not the following:\n",
    "'RoboCop eats apples.'\n",
    "'ALICE THROWS FOOTBALLS.'\n",
    "'Carol eats 7 cats.'\n",
    "\n",
    "\"\"\"\n",
    "import re \n",
    "\n",
    "strre= re.compile(r'(Alice|Bob|Carol)\\s(eats|pets|throws)\\s(apples|cats|baseballs)\\.', re.IGNORECASE)\n",
    "strre.findall('Alice eats apples. Bob pets cats. Carol throws baseballs. Alice throws Apples. BOB EATS CATS. RoboCop eats apples. ALICE THROWS FOOTBALLS. Carol eats 7 cats.')\n",
    " \n"
   ]
  }
 ],
 "metadata": {
  "kernelspec": {
   "display_name": "Python 3 (ipykernel)",
   "language": "python",
   "name": "python3"
  },
  "language_info": {
   "codemirror_mode": {
    "name": "ipython",
    "version": 3
   },
   "file_extension": ".py",
   "mimetype": "text/x-python",
   "name": "python",
   "nbconvert_exporter": "python",
   "pygments_lexer": "ipython3",
   "version": "3.9.12"
  }
 },
 "nbformat": 4,
 "nbformat_minor": 5
}

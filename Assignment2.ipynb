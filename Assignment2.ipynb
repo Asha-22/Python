{
 "cells": [
  {
   "cell_type": "markdown",
   "id": "57031978",
   "metadata": {},
   "source": [
    "What are the two values of the Boolean data type? How do you write them?\n",
    "\n",
    "Two values of the boolean data types are TRUE and FALSE. It can be written as bool(variable name).\n"
   ]
  },
  {
   "cell_type": "markdown",
   "id": "7d4495ce",
   "metadata": {},
   "source": [
    "What are the three different types of Boolean operators?\n",
    "\n",
    "Comparator Operators: Ex <, >, \n",
    "Binary Operators: Ex Logical AND, OR\n",
    "Negation Operator: Ex Logical NOT "
   ]
  },
  {
   "cell_type": "markdown",
   "id": "462619e3",
   "metadata": {},
   "source": [
    "Make a list of each Boolean operator's truth tables (i.e. every possible combination of Boolean values for the operator and what it evaluate ).\n",
    "\n",
    "Logical AND \n",
    "\n",
    "T AND T -> T\n",
    "T AND F -> F\n",
    "F AND T -> F\n",
    "F AND F -> F\n",
    "\n",
    "Logical OR\n",
    "\n",
    "T OR T -> T\n",
    "T OR F -> T\n",
    "F OR T -> T\n",
    "F OR F -> F\n",
    "\n",
    "Logical NOT\n",
    "\n",
    "T -> F\n",
    "F -> T\n",
    "\n",
    "\n"
   ]
  },
  {
   "cell_type": "markdown",
   "id": "083a87e7",
   "metadata": {},
   "source": [
    "What are the values of the following expressions?\n",
    "(5 > 4) and (3 == 5)\n",
    "not (5 > 4)\n",
    "(5 > 4) or (3 == 5)\n",
    "not ((5 > 4) or (3 == 5))\n",
    "(True and True) and (True == False)\n",
    "(not False) or (not True)\n"
   ]
  },
  {
   "cell_type": "code",
   "execution_count": 1,
   "id": "20975694",
   "metadata": {},
   "outputs": [
    {
     "data": {
      "text/plain": [
       "False"
      ]
     },
     "execution_count": 1,
     "metadata": {},
     "output_type": "execute_result"
    }
   ],
   "source": [
    "(5 > 4) and (3 == 5)"
   ]
  },
  {
   "cell_type": "code",
   "execution_count": 2,
   "id": "0f5ba71d",
   "metadata": {},
   "outputs": [
    {
     "data": {
      "text/plain": [
       "False"
      ]
     },
     "execution_count": 2,
     "metadata": {},
     "output_type": "execute_result"
    }
   ],
   "source": [
    "not (5 > 4)"
   ]
  },
  {
   "cell_type": "code",
   "execution_count": 3,
   "id": "e4a71836",
   "metadata": {},
   "outputs": [
    {
     "data": {
      "text/plain": [
       "True"
      ]
     },
     "execution_count": 3,
     "metadata": {},
     "output_type": "execute_result"
    }
   ],
   "source": [
    "(5 > 4) or (3 == 5)"
   ]
  },
  {
   "cell_type": "code",
   "execution_count": 4,
   "id": "31ed0b77",
   "metadata": {},
   "outputs": [
    {
     "data": {
      "text/plain": [
       "False"
      ]
     },
     "execution_count": 4,
     "metadata": {},
     "output_type": "execute_result"
    }
   ],
   "source": [
    "not ((5 > 4) or (3 == 5))"
   ]
  },
  {
   "cell_type": "code",
   "execution_count": 5,
   "id": "51914cc2",
   "metadata": {},
   "outputs": [
    {
     "data": {
      "text/plain": [
       "False"
      ]
     },
     "execution_count": 5,
     "metadata": {},
     "output_type": "execute_result"
    }
   ],
   "source": [
    "(True and True) and (True == False)"
   ]
  },
  {
   "cell_type": "code",
   "execution_count": 6,
   "id": "8928fd72",
   "metadata": {},
   "outputs": [
    {
     "data": {
      "text/plain": [
       "True"
      ]
     },
     "execution_count": 6,
     "metadata": {},
     "output_type": "execute_result"
    }
   ],
   "source": [
    "(not False) or (not True)"
   ]
  },
  {
   "cell_type": "markdown",
   "id": "fd4eaef6",
   "metadata": {},
   "source": [
    "What are the six comparison operators?\n",
    "\n",
    "<, <=, >, >=, ==,!="
   ]
  },
  {
   "cell_type": "markdown",
   "id": "5b5fa4fe",
   "metadata": {},
   "source": [
    "How do you tell the difference between the equal to and assignment operators?Describe a condition and when you would use one.\n",
    "\n",
    "== is used to compare any two variables. \n",
    "= is used to assign a value to a variable. "
   ]
  },
  {
   "cell_type": "code",
   "execution_count": 7,
   "id": "e9a71aad",
   "metadata": {},
   "outputs": [
    {
     "name": "stdout",
     "output_type": "stream",
     "text": [
      "4\n"
     ]
    }
   ],
   "source": [
    "# Value 4 is assigned to the variable a  \n",
    "a=4\n",
    "print(a)\n"
   ]
  },
  {
   "cell_type": "code",
   "execution_count": 4,
   "id": "60f4fd32",
   "metadata": {},
   "outputs": [
    {
     "name": "stdout",
     "output_type": "stream",
     "text": [
      "5\n"
     ]
    }
   ],
   "source": [
    "# Comparing the values between variable a and b to check for equality \n",
    "a = 4\n",
    "b = 5\n",
    "if a == b:\n",
    "    print(a)\n",
    "else:\n",
    "    print(b)\n"
   ]
  },
  {
   "cell_type": "code",
   "execution_count": 5,
   "id": "147e3a95",
   "metadata": {},
   "outputs": [
    {
     "name": "stdout",
     "output_type": "stream",
     "text": [
      "4\n"
     ]
    }
   ],
   "source": [
    "# Comparing the values between variable a and b to check for equality \n",
    "a = 4\n",
    "b = 4\n",
    "if a == b:\n",
    "    print(a)\n",
    "else:\n",
    "    print(b)\n"
   ]
  },
  {
   "cell_type": "code",
   "execution_count": 6,
   "id": "3ec28f6f",
   "metadata": {},
   "outputs": [
    {
     "name": "stdout",
     "output_type": "stream",
     "text": [
      "ham\n",
      "spam\n",
      "spam\n"
     ]
    }
   ],
   "source": [
    "#Identify the three blocks in this code:\n",
    "spam = 0\n",
    "if spam == 10:         # block 1\n",
    "    print('eggs')\n",
    "if spam > 5:           # block 2\n",
    "    print('bacon')\n",
    "else:                  # block 3\n",
    "    print('ham')\n",
    "    print('spam')\n",
    "    print('spam')\n"
   ]
  },
  {
   "cell_type": "code",
   "execution_count": 10,
   "id": "af825f31",
   "metadata": {},
   "outputs": [
    {
     "name": "stdout",
     "output_type": "stream",
     "text": [
      "4\n",
      "Greetings\n"
     ]
    }
   ],
   "source": [
    "#Write code that prints Hello if 1 is stored in spam, prints Howdy if 2 is stored in spam, \n",
    "#and prints Greetings! if anything else is stored in spam.\n",
    "\n",
    "spam = int(input())\n",
    "if spam == 1:\n",
    "    print(\"Hello\")\n",
    "elif spam == 2:\n",
    "    print(\"Howdy\")\n",
    "else:\n",
    "    print(\"Greetings\")"
   ]
  },
  {
   "cell_type": "code",
   "execution_count": 11,
   "id": "071c1f31",
   "metadata": {},
   "outputs": [
    {
     "name": "stdout",
     "output_type": "stream",
     "text": [
      "1\n",
      "Hello\n"
     ]
    }
   ],
   "source": [
    "#Write code that prints Hello if 1 is stored in spam, prints Howdy if 2 is stored in spam, \n",
    "#and prints Greetings! if anything else is stored in spam.\n",
    "\n",
    "spam = int(input())\n",
    "if spam == 1:\n",
    "    print(\"Hello\")\n",
    "elif spam == 2:\n",
    "    print(\"Howdy\")\n",
    "else:\n",
    "    print(\"Greetings\")"
   ]
  },
  {
   "cell_type": "code",
   "execution_count": 12,
   "id": "8dfbe855",
   "metadata": {},
   "outputs": [
    {
     "name": "stdout",
     "output_type": "stream",
     "text": [
      "2\n",
      "Howdy\n"
     ]
    }
   ],
   "source": [
    "#Write code that prints Hello if 1 is stored in spam, prints Howdy if 2 is stored in spam, \n",
    "#and prints Greetings! if anything else is stored in spam.\n",
    "\n",
    "spam = int(input())\n",
    "if spam == 1:\n",
    "    print(\"Hello\")\n",
    "elif spam == 2:\n",
    "    print(\"Howdy\")\n",
    "else:\n",
    "    print(\"Greetings\")"
   ]
  },
  {
   "cell_type": "markdown",
   "id": "46cbf468",
   "metadata": {},
   "source": [
    "If your programme is stuck in an endless loop, what keys you’ll press?\n",
    "\n",
    "If one executing the program on command prompt , one can use CONTROL C . \n",
    "If not, use break. "
   ]
  },
  {
   "cell_type": "code",
   "execution_count": 17,
   "id": "c7ffd1b8",
   "metadata": {},
   "outputs": [
    {
     "name": "stdout",
     "output_type": "stream",
     "text": [
      "Inside break 0\n",
      "Inside break 1\n",
      "Inside break 2\n",
      "Inside break 3\n",
      "Inside break 4\n",
      "Inside continue 0\n",
      "Inside continue 1\n",
      "Inside continue 2\n",
      "Inside continue 3\n",
      "Inside continue 4\n",
      "Inside continue 5\n",
      "Inside continue 7\n",
      "Inside continue 8\n",
      "Inside continue 9\n"
     ]
    }
   ],
   "source": [
    "#How can you tell the difference between break and continue?\n",
    "\n",
    "#Break terminates the execution of the current loop and comes to the next executable statement in the program. \n",
    "\n",
    "#Continue, skips the current iteration and goes to the next iteration in the loop. \n",
    "\n",
    "for i in range(10):\n",
    "    if i==5:\n",
    "        break\n",
    "    print(\"Inside break\", i)\n",
    "    \n",
    "for i in range(10):\n",
    "    if i==6:\n",
    "        continue\n",
    "    print(\"Inside continue\", i)\n"
   ]
  },
  {
   "cell_type": "code",
   "execution_count": 21,
   "id": "684453a6",
   "metadata": {},
   "outputs": [
    {
     "name": "stdout",
     "output_type": "stream",
     "text": [
      "0\n",
      "1\n",
      "2\n",
      "3\n",
      "4\n",
      "5\n",
      "6\n",
      "7\n",
      "8\n",
      "9\n",
      "First condition\n",
      "0\n",
      "1\n",
      "2\n",
      "3\n",
      "4\n",
      "5\n",
      "6\n",
      "7\n",
      "8\n",
      "9\n",
      "Second condition\n",
      "0\n",
      "1\n",
      "2\n",
      "3\n",
      "4\n",
      "5\n",
      "6\n",
      "7\n",
      "8\n",
      "9\n",
      "Third condition\n"
     ]
    }
   ],
   "source": [
    "#In a for loop, what is the difference between range(10), range(0, 10), and range(0, 10, 1)?\n",
    "\n",
    "for i in range(10):              # i ranges till 10 \n",
    "    print(i)\n",
    "print(\"First condition\")\n",
    "    \n",
    "for i in range(0,10):           # i ranges from 0 to 10\n",
    "     print(i)\n",
    "print(\"Second condition\") \n",
    "    \n",
    "for i in range(0,10,1):         # i ranges from 0 to 10 with a step up of 1 \n",
    "    print(i)\n",
    "print(\"Third condition\")"
   ]
  },
  {
   "cell_type": "code",
   "execution_count": 5,
   "id": "5d747f02",
   "metadata": {},
   "outputs": [
    {
     "name": "stdout",
     "output_type": "stream",
     "text": [
      "1\n",
      "2\n",
      "3\n",
      "4\n",
      "5\n",
      "6\n",
      "7\n",
      "8\n",
      "9\n",
      "10\n",
      "Inside for loop\n",
      "1\n",
      "2\n",
      "3\n",
      "4\n",
      "5\n",
      "6\n",
      "7\n",
      "8\n",
      "9\n",
      "10\n",
      "Inside while loop\n"
     ]
    }
   ],
   "source": [
    "#Write a short program that prints the numbers 1 to 10 using a for loop. \n",
    "#Then write an equivalent program that prints the numbers 1 to 10 using a while loop.\n",
    "\n",
    "\n",
    "for i in range(10):\n",
    "    print(i+1)\n",
    "print(\"Inside for loop\")\n",
    "    \n",
    "j=1\n",
    "while j <= 10:\n",
    "    print(j)\n",
    "    j=j+1\n",
    "print(\"Inside while loop\")"
   ]
  },
  {
   "cell_type": "code",
   "execution_count": 3,
   "id": "ad44becf",
   "metadata": {},
   "outputs": [
    {
     "name": "stdout",
     "output_type": "stream",
     "text": [
      "Bacon inside spam\n"
     ]
    }
   ],
   "source": [
    "#If you had a function named bacon() inside a module named spam, how would you call it after importing spam?\n",
    "\n",
    "\n",
    "import spam\n",
    "spam.bacon()\n"
   ]
  },
  {
   "cell_type": "code",
   "execution_count": null,
   "id": "9fe6f9cb",
   "metadata": {},
   "outputs": [],
   "source": []
  },
  {
   "cell_type": "code",
   "execution_count": null,
   "id": "34e78f55",
   "metadata": {},
   "outputs": [],
   "source": []
  }
 ],
 "metadata": {
  "kernelspec": {
   "display_name": "Python 3 (ipykernel)",
   "language": "python",
   "name": "python3"
  },
  "language_info": {
   "codemirror_mode": {
    "name": "ipython",
    "version": 3
   },
   "file_extension": ".py",
   "mimetype": "text/x-python",
   "name": "python",
   "nbconvert_exporter": "python",
   "pygments_lexer": "ipython3",
   "version": "3.9.12"
  }
 },
 "nbformat": 4,
 "nbformat_minor": 5
}

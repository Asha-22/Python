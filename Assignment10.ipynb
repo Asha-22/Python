{
 "cells": [
  {
   "cell_type": "code",
   "execution_count": null,
   "id": "056ff385",
   "metadata": {},
   "outputs": [],
   "source": [
    "# How do you distinguish between shutil.copy() and shutil.copytree()?\n",
    "# shutil.copy() - copies a single file\n",
    "# shutil.copytree() - copies the folder alomg with its contents "
   ]
  },
  {
   "cell_type": "code",
   "execution_count": null,
   "id": "ccf39c58",
   "metadata": {},
   "outputs": [],
   "source": [
    "# What function is used to rename files?\n",
    "# os.rename()"
   ]
  },
  {
   "cell_type": "code",
   "execution_count": 3,
   "id": "9cd40d50",
   "metadata": {},
   "outputs": [],
   "source": [
    "# What is the difference between the delete functions in the send2trash and shutil modules?\n",
    "# send2trash - will send the files to recycle bin\n",
    "# shutil - will delete the files and directories permanently \n",
    "\n"
   ]
  },
  {
   "cell_type": "code",
   "execution_count": null,
   "id": "892a5b40",
   "metadata": {},
   "outputs": [],
   "source": [
    "# ZipFile objects have a close() method just like File objects’ close() method. What ZipFile method is equivalent to File objects’ open() method?\n",
    "# zipfile.ZipFile() is equivalent to open() ;\n",
    "# It take filename as the first arguments, and mode of opening(r,w,a) the file as second argument."
   ]
  },
  {
   "cell_type": "code",
   "execution_count": 4,
   "id": "758b1a95",
   "metadata": {},
   "outputs": [
    {
     "name": "stdout",
     "output_type": "stream",
     "text": [
      "Looking in C:\\Users\\ASHA\\Documents for files with extensions of .txt, .py\n"
     ]
    }
   ],
   "source": [
    "# Create a programme that searches a folder tree for files with a certain file extension (such as .pdf or .jpg). Copy these files from whatever location they are in to a new folder.\n",
    "\n",
    "import os, shutil\n",
    "\n",
    "def selectiveCopy(copyfrom, extensions, copyto):\n",
    "    copyfrom = os.path.abspath(copyfrom)\n",
    "    copyto = os.path.abspath(copyto)\n",
    "    print('Looking in', copyfrom, 'for files with extensions of', ', '.join(extensions))\n",
    "    for copyfrom, subfolders, filenames in os.walk(copyfrom):\n",
    "        for filename in filenames:\n",
    "            name, extension = os.path.splitext(filename)\n",
    "            if extension in extensions:\n",
    "                fileAbsPath = copyfrom + os.path.sep + filename\n",
    "                print('Coping', fileAbsPath, 'to', copyto)\n",
    "                shutil.copy(fileAbsPath, copyto)\n",
    "\n",
    "extensions = ['.txt', '.py']\n",
    "copyfrom = 'Documents'\n",
    "copyto = 'Test-Destination'\n",
    "selectiveCopy(copyfrom, extensions, copyto)"
   ]
  },
  {
   "cell_type": "code",
   "execution_count": null,
   "id": "3820d5ff",
   "metadata": {},
   "outputs": [],
   "source": []
  }
 ],
 "metadata": {
  "kernelspec": {
   "display_name": "Python 3 (ipykernel)",
   "language": "python",
   "name": "python3"
  },
  "language_info": {
   "codemirror_mode": {
    "name": "ipython",
    "version": 3
   },
   "file_extension": ".py",
   "mimetype": "text/x-python",
   "name": "python",
   "nbconvert_exporter": "python",
   "pygments_lexer": "ipython3",
   "version": "3.9.12"
  }
 },
 "nbformat": 4,
 "nbformat_minor": 5
}
